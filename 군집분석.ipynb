{
 "cells": [
  {
   "cell_type": "code",
   "execution_count": 8,
   "id": "42f2bc7d",
   "metadata": {},
   "outputs": [],
   "source": [
    "# 추세 분석\n",
    "# https://dschloe.github.io/python/python_edu/07_deeplearning/deep_learning_lstm/\n",
    "# 군집분석\n",
    "# https://suy379.tistory.com/m/51"
   ]
  },
  {
   "cell_type": "markdown",
   "id": "b75947aa",
   "metadata": {},
   "source": [
    "# 들어가기 전에..\n",
    "- 해법수학과 미래엔수학은 어떤 이유를 가지고 점포 생성을 위한 지역 선정을 했을까?\n",
    "- 지점수가 많은곳은 장사가 잘 되는 것으로 가정\n",
    "- 지역선정에 가장 큰 영향을 미치는 요인을 알아보자"
   ]
  },
  {
   "cell_type": "markdown",
   "id": "125395bb",
   "metadata": {},
   "source": [
    "# 군집분석\n",
    "- 군집별(지역별) 지점수에 미치는 요인 알아보기"
   ]
  },
  {
   "cell_type": "code",
   "execution_count": 1,
   "id": "d624192e",
   "metadata": {},
   "outputs": [],
   "source": [
    "import pandas as pd\n",
    "import numpy as np\n",
    "import matplotlib.pyplot as plt\n",
    "import seaborn as sns"
   ]
  },
  {
   "cell_type": "code",
   "execution_count": 187,
   "id": "529f4a3b",
   "metadata": {},
   "outputs": [],
   "source": [
    "df = pd.read_csv('./data/통합데이터.csv')"
   ]
  },
  {
   "cell_type": "code",
   "execution_count": 188,
   "id": "fe60d34c",
   "metadata": {},
   "outputs": [
    {
     "data": {
      "text/html": [
       "<div>\n",
       "<style scoped>\n",
       "    .dataframe tbody tr th:only-of-type {\n",
       "        vertical-align: middle;\n",
       "    }\n",
       "\n",
       "    .dataframe tbody tr th {\n",
       "        vertical-align: top;\n",
       "    }\n",
       "\n",
       "    .dataframe thead th {\n",
       "        text-align: right;\n",
       "    }\n",
       "</style>\n",
       "<table border=\"1\" class=\"dataframe\">\n",
       "  <thead>\n",
       "    <tr style=\"text-align: right;\">\n",
       "      <th></th>\n",
       "      <th>지역</th>\n",
       "      <th>지점수(미래엔)</th>\n",
       "      <th>지점수(해법)</th>\n",
       "      <th>1인당 개인소득(천원)</th>\n",
       "      <th>초등생_사교육지출(만원)</th>\n",
       "    </tr>\n",
       "  </thead>\n",
       "  <tbody>\n",
       "    <tr>\n",
       "      <th>0</th>\n",
       "      <td>경기</td>\n",
       "      <td>378</td>\n",
       "      <td>861</td>\n",
       "      <td>21937</td>\n",
       "      <td>34.6</td>\n",
       "    </tr>\n",
       "    <tr>\n",
       "      <th>1</th>\n",
       "      <td>서울</td>\n",
       "      <td>111</td>\n",
       "      <td>386</td>\n",
       "      <td>25256</td>\n",
       "      <td>47.3</td>\n",
       "    </tr>\n",
       "    <tr>\n",
       "      <th>2</th>\n",
       "      <td>경남</td>\n",
       "      <td>88</td>\n",
       "      <td>159</td>\n",
       "      <td>20650</td>\n",
       "      <td>24.9</td>\n",
       "    </tr>\n",
       "    <tr>\n",
       "      <th>3</th>\n",
       "      <td>인천</td>\n",
       "      <td>69</td>\n",
       "      <td>112</td>\n",
       "      <td>21317</td>\n",
       "      <td>29.8</td>\n",
       "    </tr>\n",
       "    <tr>\n",
       "      <th>4</th>\n",
       "      <td>부산</td>\n",
       "      <td>60</td>\n",
       "      <td>155</td>\n",
       "      <td>21352</td>\n",
       "      <td>32.8</td>\n",
       "    </tr>\n",
       "    <tr>\n",
       "      <th>5</th>\n",
       "      <td>충남</td>\n",
       "      <td>57</td>\n",
       "      <td>67</td>\n",
       "      <td>21262</td>\n",
       "      <td>23.3</td>\n",
       "    </tr>\n",
       "    <tr>\n",
       "      <th>6</th>\n",
       "      <td>대구</td>\n",
       "      <td>55</td>\n",
       "      <td>85</td>\n",
       "      <td>21046</td>\n",
       "      <td>37.4</td>\n",
       "    </tr>\n",
       "    <tr>\n",
       "      <th>7</th>\n",
       "      <td>경북</td>\n",
       "      <td>45</td>\n",
       "      <td>123</td>\n",
       "      <td>20667</td>\n",
       "      <td>26.4</td>\n",
       "    </tr>\n",
       "    <tr>\n",
       "      <th>8</th>\n",
       "      <td>전남</td>\n",
       "      <td>41</td>\n",
       "      <td>55</td>\n",
       "      <td>20881</td>\n",
       "      <td>22.4</td>\n",
       "    </tr>\n",
       "    <tr>\n",
       "      <th>9</th>\n",
       "      <td>전북</td>\n",
       "      <td>35</td>\n",
       "      <td>59</td>\n",
       "      <td>20862</td>\n",
       "      <td>23.9</td>\n",
       "    </tr>\n",
       "    <tr>\n",
       "      <th>10</th>\n",
       "      <td>충북</td>\n",
       "      <td>32</td>\n",
       "      <td>49</td>\n",
       "      <td>21081</td>\n",
       "      <td>27.9</td>\n",
       "    </tr>\n",
       "    <tr>\n",
       "      <th>11</th>\n",
       "      <td>제주</td>\n",
       "      <td>19</td>\n",
       "      <td>15</td>\n",
       "      <td>20475</td>\n",
       "      <td>27.0</td>\n",
       "    </tr>\n",
       "    <tr>\n",
       "      <th>12</th>\n",
       "      <td>대전</td>\n",
       "      <td>17</td>\n",
       "      <td>35</td>\n",
       "      <td>22730</td>\n",
       "      <td>34.1</td>\n",
       "    </tr>\n",
       "    <tr>\n",
       "      <th>13</th>\n",
       "      <td>울산</td>\n",
       "      <td>16</td>\n",
       "      <td>16</td>\n",
       "      <td>25165</td>\n",
       "      <td>26.7</td>\n",
       "    </tr>\n",
       "    <tr>\n",
       "      <th>14</th>\n",
       "      <td>광주</td>\n",
       "      <td>16</td>\n",
       "      <td>46</td>\n",
       "      <td>22472</td>\n",
       "      <td>27.4</td>\n",
       "    </tr>\n",
       "    <tr>\n",
       "      <th>15</th>\n",
       "      <td>강원</td>\n",
       "      <td>12</td>\n",
       "      <td>48</td>\n",
       "      <td>21038</td>\n",
       "      <td>24.6</td>\n",
       "    </tr>\n",
       "    <tr>\n",
       "      <th>16</th>\n",
       "      <td>세종</td>\n",
       "      <td>1</td>\n",
       "      <td>25</td>\n",
       "      <td>22061</td>\n",
       "      <td>33.1</td>\n",
       "    </tr>\n",
       "  </tbody>\n",
       "</table>\n",
       "</div>"
      ],
      "text/plain": [
       "    지역  지점수(미래엔)  지점수(해법)  1인당 개인소득(천원)  초등생_사교육지출(만원)\n",
       "0   경기       378      861         21937           34.6\n",
       "1   서울       111      386         25256           47.3\n",
       "2   경남        88      159         20650           24.9\n",
       "3   인천        69      112         21317           29.8\n",
       "4   부산        60      155         21352           32.8\n",
       "5   충남        57       67         21262           23.3\n",
       "6   대구        55       85         21046           37.4\n",
       "7   경북        45      123         20667           26.4\n",
       "8   전남        41       55         20881           22.4\n",
       "9   전북        35       59         20862           23.9\n",
       "10  충북        32       49         21081           27.9\n",
       "11  제주        19       15         20475           27.0\n",
       "12  대전        17       35         22730           34.1\n",
       "13  울산        16       16         25165           26.7\n",
       "14  광주        16       46         22472           27.4\n",
       "15  강원        12       48         21038           24.6\n",
       "16  세종         1       25         22061           33.1"
      ]
     },
     "execution_count": 188,
     "metadata": {},
     "output_type": "execute_result"
    }
   ],
   "source": [
    "df"
   ]
  },
  {
   "cell_type": "code",
   "execution_count": 189,
   "id": "9b96eeab",
   "metadata": {},
   "outputs": [
    {
     "data": {
      "text/plain": [
       "지역               0\n",
       "지점수(미래엔)         0\n",
       "지점수(해법)          0\n",
       "1인당 개인소득(천원)     0\n",
       "초등생_사교육지출(만원)    0\n",
       "dtype: int64"
      ]
     },
     "execution_count": 189,
     "metadata": {},
     "output_type": "execute_result"
    }
   ],
   "source": [
    "df.isnull().sum()"
   ]
  },
  {
   "cell_type": "code",
   "execution_count": 109,
   "id": "fd87aafa",
   "metadata": {},
   "outputs": [],
   "source": [
    "# k-means 클러스터링 실시\n",
    "# <조건>\n",
    "# 1. 그룹 개수 설정: 3개\n",
    "# 2. 1인당 개인소득(천원)과 초등생_사교육지출(만원) 변수는 지점수 변수에 비해 값이 너무 크므로 모든 변수 표준화 작업 실시"
   ]
  },
  {
   "cell_type": "code",
   "execution_count": 190,
   "id": "c14a1a2b",
   "metadata": {},
   "outputs": [],
   "source": [
    "use_df = df.drop(columns={'지역'})"
   ]
  },
  {
   "cell_type": "code",
   "execution_count": 191,
   "id": "306d1854",
   "metadata": {},
   "outputs": [
    {
     "data": {
      "text/html": [
       "<div>\n",
       "<style scoped>\n",
       "    .dataframe tbody tr th:only-of-type {\n",
       "        vertical-align: middle;\n",
       "    }\n",
       "\n",
       "    .dataframe tbody tr th {\n",
       "        vertical-align: top;\n",
       "    }\n",
       "\n",
       "    .dataframe thead th {\n",
       "        text-align: right;\n",
       "    }\n",
       "</style>\n",
       "<table border=\"1\" class=\"dataframe\">\n",
       "  <thead>\n",
       "    <tr style=\"text-align: right;\">\n",
       "      <th></th>\n",
       "      <th>지점수(미래엔)</th>\n",
       "      <th>지점수(해법)</th>\n",
       "      <th>1인당 개인소득(천원)</th>\n",
       "      <th>초등생_사교육지출(만원)</th>\n",
       "    </tr>\n",
       "  </thead>\n",
       "  <tbody>\n",
       "    <tr>\n",
       "      <th>0</th>\n",
       "      <td>378</td>\n",
       "      <td>861</td>\n",
       "      <td>21937</td>\n",
       "      <td>34.6</td>\n",
       "    </tr>\n",
       "    <tr>\n",
       "      <th>1</th>\n",
       "      <td>111</td>\n",
       "      <td>386</td>\n",
       "      <td>25256</td>\n",
       "      <td>47.3</td>\n",
       "    </tr>\n",
       "    <tr>\n",
       "      <th>2</th>\n",
       "      <td>88</td>\n",
       "      <td>159</td>\n",
       "      <td>20650</td>\n",
       "      <td>24.9</td>\n",
       "    </tr>\n",
       "    <tr>\n",
       "      <th>3</th>\n",
       "      <td>69</td>\n",
       "      <td>112</td>\n",
       "      <td>21317</td>\n",
       "      <td>29.8</td>\n",
       "    </tr>\n",
       "    <tr>\n",
       "      <th>4</th>\n",
       "      <td>60</td>\n",
       "      <td>155</td>\n",
       "      <td>21352</td>\n",
       "      <td>32.8</td>\n",
       "    </tr>\n",
       "    <tr>\n",
       "      <th>5</th>\n",
       "      <td>57</td>\n",
       "      <td>67</td>\n",
       "      <td>21262</td>\n",
       "      <td>23.3</td>\n",
       "    </tr>\n",
       "    <tr>\n",
       "      <th>6</th>\n",
       "      <td>55</td>\n",
       "      <td>85</td>\n",
       "      <td>21046</td>\n",
       "      <td>37.4</td>\n",
       "    </tr>\n",
       "    <tr>\n",
       "      <th>7</th>\n",
       "      <td>45</td>\n",
       "      <td>123</td>\n",
       "      <td>20667</td>\n",
       "      <td>26.4</td>\n",
       "    </tr>\n",
       "    <tr>\n",
       "      <th>8</th>\n",
       "      <td>41</td>\n",
       "      <td>55</td>\n",
       "      <td>20881</td>\n",
       "      <td>22.4</td>\n",
       "    </tr>\n",
       "    <tr>\n",
       "      <th>9</th>\n",
       "      <td>35</td>\n",
       "      <td>59</td>\n",
       "      <td>20862</td>\n",
       "      <td>23.9</td>\n",
       "    </tr>\n",
       "    <tr>\n",
       "      <th>10</th>\n",
       "      <td>32</td>\n",
       "      <td>49</td>\n",
       "      <td>21081</td>\n",
       "      <td>27.9</td>\n",
       "    </tr>\n",
       "    <tr>\n",
       "      <th>11</th>\n",
       "      <td>19</td>\n",
       "      <td>15</td>\n",
       "      <td>20475</td>\n",
       "      <td>27.0</td>\n",
       "    </tr>\n",
       "    <tr>\n",
       "      <th>12</th>\n",
       "      <td>17</td>\n",
       "      <td>35</td>\n",
       "      <td>22730</td>\n",
       "      <td>34.1</td>\n",
       "    </tr>\n",
       "    <tr>\n",
       "      <th>13</th>\n",
       "      <td>16</td>\n",
       "      <td>16</td>\n",
       "      <td>25165</td>\n",
       "      <td>26.7</td>\n",
       "    </tr>\n",
       "    <tr>\n",
       "      <th>14</th>\n",
       "      <td>16</td>\n",
       "      <td>46</td>\n",
       "      <td>22472</td>\n",
       "      <td>27.4</td>\n",
       "    </tr>\n",
       "    <tr>\n",
       "      <th>15</th>\n",
       "      <td>12</td>\n",
       "      <td>48</td>\n",
       "      <td>21038</td>\n",
       "      <td>24.6</td>\n",
       "    </tr>\n",
       "    <tr>\n",
       "      <th>16</th>\n",
       "      <td>1</td>\n",
       "      <td>25</td>\n",
       "      <td>22061</td>\n",
       "      <td>33.1</td>\n",
       "    </tr>\n",
       "  </tbody>\n",
       "</table>\n",
       "</div>"
      ],
      "text/plain": [
       "    지점수(미래엔)  지점수(해법)  1인당 개인소득(천원)  초등생_사교육지출(만원)\n",
       "0        378      861         21937           34.6\n",
       "1        111      386         25256           47.3\n",
       "2         88      159         20650           24.9\n",
       "3         69      112         21317           29.8\n",
       "4         60      155         21352           32.8\n",
       "5         57       67         21262           23.3\n",
       "6         55       85         21046           37.4\n",
       "7         45      123         20667           26.4\n",
       "8         41       55         20881           22.4\n",
       "9         35       59         20862           23.9\n",
       "10        32       49         21081           27.9\n",
       "11        19       15         20475           27.0\n",
       "12        17       35         22730           34.1\n",
       "13        16       16         25165           26.7\n",
       "14        16       46         22472           27.4\n",
       "15        12       48         21038           24.6\n",
       "16         1       25         22061           33.1"
      ]
     },
     "execution_count": 191,
     "metadata": {},
     "output_type": "execute_result"
    }
   ],
   "source": [
    "use_df"
   ]
  },
  {
   "cell_type": "code",
   "execution_count": 192,
   "id": "614787ad",
   "metadata": {},
   "outputs": [
    {
     "data": {
      "text/html": [
       "<div>\n",
       "<style scoped>\n",
       "    .dataframe tbody tr th:only-of-type {\n",
       "        vertical-align: middle;\n",
       "    }\n",
       "\n",
       "    .dataframe tbody tr th {\n",
       "        vertical-align: top;\n",
       "    }\n",
       "\n",
       "    .dataframe thead th {\n",
       "        text-align: right;\n",
       "    }\n",
       "</style>\n",
       "<table border=\"1\" class=\"dataframe\">\n",
       "  <thead>\n",
       "    <tr style=\"text-align: right;\">\n",
       "      <th></th>\n",
       "      <th>0</th>\n",
       "      <th>1</th>\n",
       "      <th>2</th>\n",
       "      <th>3</th>\n",
       "    </tr>\n",
       "  </thead>\n",
       "  <tbody>\n",
       "    <tr>\n",
       "      <th>0</th>\n",
       "      <td>3.766545</td>\n",
       "      <td>3.617562</td>\n",
       "      <td>0.112785</td>\n",
       "      <td>0.807196</td>\n",
       "    </tr>\n",
       "    <tr>\n",
       "      <th>1</th>\n",
       "      <td>0.585237</td>\n",
       "      <td>1.250508</td>\n",
       "      <td>2.489958</td>\n",
       "      <td>2.867168</td>\n",
       "    </tr>\n",
       "    <tr>\n",
       "      <th>2</th>\n",
       "      <td>0.311192</td>\n",
       "      <td>0.119305</td>\n",
       "      <td>-0.809005</td>\n",
       "      <td>-0.766168</td>\n",
       "    </tr>\n",
       "    <tr>\n",
       "      <th>3</th>\n",
       "      <td>0.084807</td>\n",
       "      <td>-0.114908</td>\n",
       "      <td>-0.331278</td>\n",
       "      <td>0.028624</td>\n",
       "    </tr>\n",
       "    <tr>\n",
       "      <th>4</th>\n",
       "      <td>-0.022428</td>\n",
       "      <td>0.099372</td>\n",
       "      <td>-0.306210</td>\n",
       "      <td>0.515232</td>\n",
       "    </tr>\n",
       "    <tr>\n",
       "      <th>5</th>\n",
       "      <td>-0.058173</td>\n",
       "      <td>-0.339156</td>\n",
       "      <td>-0.370671</td>\n",
       "      <td>-1.025692</td>\n",
       "    </tr>\n",
       "    <tr>\n",
       "      <th>6</th>\n",
       "      <td>-0.082003</td>\n",
       "      <td>-0.249457</td>\n",
       "      <td>-0.525377</td>\n",
       "      <td>1.261363</td>\n",
       "    </tr>\n",
       "    <tr>\n",
       "      <th>7</th>\n",
       "      <td>-0.201153</td>\n",
       "      <td>-0.060092</td>\n",
       "      <td>-0.796829</td>\n",
       "      <td>-0.522865</td>\n",
       "    </tr>\n",
       "    <tr>\n",
       "      <th>8</th>\n",
       "      <td>-0.248813</td>\n",
       "      <td>-0.398955</td>\n",
       "      <td>-0.643555</td>\n",
       "      <td>-1.171675</td>\n",
       "    </tr>\n",
       "    <tr>\n",
       "      <th>9</th>\n",
       "      <td>-0.320303</td>\n",
       "      <td>-0.379022</td>\n",
       "      <td>-0.657164</td>\n",
       "      <td>-0.928371</td>\n",
       "    </tr>\n",
       "    <tr>\n",
       "      <th>10</th>\n",
       "      <td>-0.356049</td>\n",
       "      <td>-0.428855</td>\n",
       "      <td>-0.500309</td>\n",
       "      <td>-0.279561</td>\n",
       "    </tr>\n",
       "    <tr>\n",
       "      <th>11</th>\n",
       "      <td>-0.510944</td>\n",
       "      <td>-0.598286</td>\n",
       "      <td>-0.934345</td>\n",
       "      <td>-0.425543</td>\n",
       "    </tr>\n",
       "    <tr>\n",
       "      <th>12</th>\n",
       "      <td>-0.534774</td>\n",
       "      <td>-0.498620</td>\n",
       "      <td>0.680757</td>\n",
       "      <td>0.726095</td>\n",
       "    </tr>\n",
       "    <tr>\n",
       "      <th>13</th>\n",
       "      <td>-0.546689</td>\n",
       "      <td>-0.593303</td>\n",
       "      <td>2.424781</td>\n",
       "      <td>-0.474204</td>\n",
       "    </tr>\n",
       "    <tr>\n",
       "      <th>14</th>\n",
       "      <td>-0.546689</td>\n",
       "      <td>-0.443804</td>\n",
       "      <td>0.495969</td>\n",
       "      <td>-0.360662</td>\n",
       "    </tr>\n",
       "    <tr>\n",
       "      <th>15</th>\n",
       "      <td>-0.594349</td>\n",
       "      <td>-0.433838</td>\n",
       "      <td>-0.531107</td>\n",
       "      <td>-0.814829</td>\n",
       "    </tr>\n",
       "    <tr>\n",
       "      <th>16</th>\n",
       "      <td>-0.725414</td>\n",
       "      <td>-0.548453</td>\n",
       "      <td>0.201598</td>\n",
       "      <td>0.563892</td>\n",
       "    </tr>\n",
       "  </tbody>\n",
       "</table>\n",
       "</div>"
      ],
      "text/plain": [
       "           0         1         2         3\n",
       "0   3.766545  3.617562  0.112785  0.807196\n",
       "1   0.585237  1.250508  2.489958  2.867168\n",
       "2   0.311192  0.119305 -0.809005 -0.766168\n",
       "3   0.084807 -0.114908 -0.331278  0.028624\n",
       "4  -0.022428  0.099372 -0.306210  0.515232\n",
       "5  -0.058173 -0.339156 -0.370671 -1.025692\n",
       "6  -0.082003 -0.249457 -0.525377  1.261363\n",
       "7  -0.201153 -0.060092 -0.796829 -0.522865\n",
       "8  -0.248813 -0.398955 -0.643555 -1.171675\n",
       "9  -0.320303 -0.379022 -0.657164 -0.928371\n",
       "10 -0.356049 -0.428855 -0.500309 -0.279561\n",
       "11 -0.510944 -0.598286 -0.934345 -0.425543\n",
       "12 -0.534774 -0.498620  0.680757  0.726095\n",
       "13 -0.546689 -0.593303  2.424781 -0.474204\n",
       "14 -0.546689 -0.443804  0.495969 -0.360662\n",
       "15 -0.594349 -0.433838 -0.531107 -0.814829\n",
       "16 -0.725414 -0.548453  0.201598  0.563892"
      ]
     },
     "execution_count": 192,
     "metadata": {},
     "output_type": "execute_result"
    }
   ],
   "source": [
    "from sklearn.cluster import KMeans\n",
    "from sklearn.preprocessing import StandardScaler\n",
    "\n",
    "#표준화\n",
    "sc = StandardScaler()\n",
    "df_scaled = sc.fit_transform(use_df)\n",
    "pd.DataFrame(df_scaled) #시도별 제외 5개의 변수가 표준화됨."
   ]
  },
  {
   "cell_type": "code",
   "execution_count": 193,
   "id": "4c169bb2",
   "metadata": {},
   "outputs": [
    {
     "name": "stderr",
     "output_type": "stream",
     "text": [
      "C:\\ProgramData\\anaconda3\\lib\\site-packages\\sklearn\\cluster\\_kmeans.py:870: FutureWarning:\n",
      "\n",
      "The default value of `n_init` will change from 10 to 'auto' in 1.4. Set the value of `n_init` explicitly to suppress the warning\n",
      "\n",
      "C:\\ProgramData\\anaconda3\\lib\\site-packages\\sklearn\\cluster\\_kmeans.py:1382: UserWarning:\n",
      "\n",
      "KMeans is known to have a memory leak on Windows with MKL, when there are less chunks than available threads. You can avoid it by setting the environment variable OMP_NUM_THREADS=1.\n",
      "\n"
     ]
    },
    {
     "data": {
      "text/html": [
       "<div>\n",
       "<style scoped>\n",
       "    .dataframe tbody tr th:only-of-type {\n",
       "        vertical-align: middle;\n",
       "    }\n",
       "\n",
       "    .dataframe tbody tr th {\n",
       "        vertical-align: top;\n",
       "    }\n",
       "\n",
       "    .dataframe thead th {\n",
       "        text-align: right;\n",
       "    }\n",
       "</style>\n",
       "<table border=\"1\" class=\"dataframe\">\n",
       "  <thead>\n",
       "    <tr style=\"text-align: right;\">\n",
       "      <th></th>\n",
       "      <th>지역</th>\n",
       "      <th>지점수(미래엔)</th>\n",
       "      <th>지점수(해법)</th>\n",
       "      <th>1인당 개인소득(천원)</th>\n",
       "      <th>초등생_사교육지출(만원)</th>\n",
       "      <th>cluster</th>\n",
       "    </tr>\n",
       "  </thead>\n",
       "  <tbody>\n",
       "    <tr>\n",
       "      <th>0</th>\n",
       "      <td>경기</td>\n",
       "      <td>378</td>\n",
       "      <td>861</td>\n",
       "      <td>21937</td>\n",
       "      <td>34.6</td>\n",
       "      <td>3</td>\n",
       "    </tr>\n",
       "    <tr>\n",
       "      <th>1</th>\n",
       "      <td>서울</td>\n",
       "      <td>111</td>\n",
       "      <td>386</td>\n",
       "      <td>25256</td>\n",
       "      <td>47.3</td>\n",
       "      <td>1</td>\n",
       "    </tr>\n",
       "    <tr>\n",
       "      <th>2</th>\n",
       "      <td>경남</td>\n",
       "      <td>88</td>\n",
       "      <td>159</td>\n",
       "      <td>20650</td>\n",
       "      <td>24.9</td>\n",
       "      <td>0</td>\n",
       "    </tr>\n",
       "    <tr>\n",
       "      <th>3</th>\n",
       "      <td>인천</td>\n",
       "      <td>69</td>\n",
       "      <td>112</td>\n",
       "      <td>21317</td>\n",
       "      <td>29.8</td>\n",
       "      <td>0</td>\n",
       "    </tr>\n",
       "    <tr>\n",
       "      <th>4</th>\n",
       "      <td>부산</td>\n",
       "      <td>60</td>\n",
       "      <td>155</td>\n",
       "      <td>21352</td>\n",
       "      <td>32.8</td>\n",
       "      <td>2</td>\n",
       "    </tr>\n",
       "    <tr>\n",
       "      <th>5</th>\n",
       "      <td>충남</td>\n",
       "      <td>57</td>\n",
       "      <td>67</td>\n",
       "      <td>21262</td>\n",
       "      <td>23.3</td>\n",
       "      <td>0</td>\n",
       "    </tr>\n",
       "    <tr>\n",
       "      <th>6</th>\n",
       "      <td>대구</td>\n",
       "      <td>55</td>\n",
       "      <td>85</td>\n",
       "      <td>21046</td>\n",
       "      <td>37.4</td>\n",
       "      <td>2</td>\n",
       "    </tr>\n",
       "    <tr>\n",
       "      <th>7</th>\n",
       "      <td>경북</td>\n",
       "      <td>45</td>\n",
       "      <td>123</td>\n",
       "      <td>20667</td>\n",
       "      <td>26.4</td>\n",
       "      <td>0</td>\n",
       "    </tr>\n",
       "    <tr>\n",
       "      <th>8</th>\n",
       "      <td>전남</td>\n",
       "      <td>41</td>\n",
       "      <td>55</td>\n",
       "      <td>20881</td>\n",
       "      <td>22.4</td>\n",
       "      <td>0</td>\n",
       "    </tr>\n",
       "    <tr>\n",
       "      <th>9</th>\n",
       "      <td>전북</td>\n",
       "      <td>35</td>\n",
       "      <td>59</td>\n",
       "      <td>20862</td>\n",
       "      <td>23.9</td>\n",
       "      <td>0</td>\n",
       "    </tr>\n",
       "    <tr>\n",
       "      <th>10</th>\n",
       "      <td>충북</td>\n",
       "      <td>32</td>\n",
       "      <td>49</td>\n",
       "      <td>21081</td>\n",
       "      <td>27.9</td>\n",
       "      <td>0</td>\n",
       "    </tr>\n",
       "    <tr>\n",
       "      <th>11</th>\n",
       "      <td>제주</td>\n",
       "      <td>19</td>\n",
       "      <td>15</td>\n",
       "      <td>20475</td>\n",
       "      <td>27.0</td>\n",
       "      <td>0</td>\n",
       "    </tr>\n",
       "    <tr>\n",
       "      <th>12</th>\n",
       "      <td>대전</td>\n",
       "      <td>17</td>\n",
       "      <td>35</td>\n",
       "      <td>22730</td>\n",
       "      <td>34.1</td>\n",
       "      <td>2</td>\n",
       "    </tr>\n",
       "    <tr>\n",
       "      <th>13</th>\n",
       "      <td>울산</td>\n",
       "      <td>16</td>\n",
       "      <td>16</td>\n",
       "      <td>25165</td>\n",
       "      <td>26.7</td>\n",
       "      <td>2</td>\n",
       "    </tr>\n",
       "    <tr>\n",
       "      <th>14</th>\n",
       "      <td>광주</td>\n",
       "      <td>16</td>\n",
       "      <td>46</td>\n",
       "      <td>22472</td>\n",
       "      <td>27.4</td>\n",
       "      <td>2</td>\n",
       "    </tr>\n",
       "    <tr>\n",
       "      <th>15</th>\n",
       "      <td>강원</td>\n",
       "      <td>12</td>\n",
       "      <td>48</td>\n",
       "      <td>21038</td>\n",
       "      <td>24.6</td>\n",
       "      <td>0</td>\n",
       "    </tr>\n",
       "    <tr>\n",
       "      <th>16</th>\n",
       "      <td>세종</td>\n",
       "      <td>1</td>\n",
       "      <td>25</td>\n",
       "      <td>22061</td>\n",
       "      <td>33.1</td>\n",
       "      <td>2</td>\n",
       "    </tr>\n",
       "  </tbody>\n",
       "</table>\n",
       "</div>"
      ],
      "text/plain": [
       "    지역  지점수(미래엔)  지점수(해법)  1인당 개인소득(천원)  초등생_사교육지출(만원)  cluster\n",
       "0   경기       378      861         21937           34.6        3\n",
       "1   서울       111      386         25256           47.3        1\n",
       "2   경남        88      159         20650           24.9        0\n",
       "3   인천        69      112         21317           29.8        0\n",
       "4   부산        60      155         21352           32.8        2\n",
       "5   충남        57       67         21262           23.3        0\n",
       "6   대구        55       85         21046           37.4        2\n",
       "7   경북        45      123         20667           26.4        0\n",
       "8   전남        41       55         20881           22.4        0\n",
       "9   전북        35       59         20862           23.9        0\n",
       "10  충북        32       49         21081           27.9        0\n",
       "11  제주        19       15         20475           27.0        0\n",
       "12  대전        17       35         22730           34.1        2\n",
       "13  울산        16       16         25165           26.7        2\n",
       "14  광주        16       46         22472           27.4        2\n",
       "15  강원        12       48         21038           24.6        0\n",
       "16  세종         1       25         22061           33.1        2"
      ]
     },
     "execution_count": 193,
     "metadata": {},
     "output_type": "execute_result"
    }
   ],
   "source": [
    "#cc_scaled 데이터를 넣어 클러스터링\n",
    "kmeans = KMeans(n_clusters=4, random_state=0)\n",
    "clusters = kmeans.fit(df_scaled)\n",
    "\n",
    "#클러스터링 변수인 clusters 값을 원본 데이터인 'cc'내에 넣기 \n",
    "df['cluster'] = clusters.labels_\n",
    "df"
   ]
  },
  {
   "cell_type": "markdown",
   "id": "a3f1b53d",
   "metadata": {},
   "source": [
    "## 클러스터링 결과 분석"
   ]
  },
  {
   "cell_type": "code",
   "execution_count": 194,
   "id": "40ca7010",
   "metadata": {},
   "outputs": [
    {
     "data": {
      "text/html": [
       "<div>\n",
       "<style scoped>\n",
       "    .dataframe tbody tr th:only-of-type {\n",
       "        vertical-align: middle;\n",
       "    }\n",
       "\n",
       "    .dataframe tbody tr th {\n",
       "        vertical-align: top;\n",
       "    }\n",
       "\n",
       "    .dataframe thead th {\n",
       "        text-align: right;\n",
       "    }\n",
       "</style>\n",
       "<table border=\"1\" class=\"dataframe\">\n",
       "  <thead>\n",
       "    <tr style=\"text-align: right;\">\n",
       "      <th></th>\n",
       "      <th>지역</th>\n",
       "      <th>지점수(미래엔)</th>\n",
       "      <th>지점수(해법)</th>\n",
       "      <th>1인당 개인소득(천원)</th>\n",
       "      <th>초등생_사교육지출(만원)</th>\n",
       "    </tr>\n",
       "    <tr>\n",
       "      <th>cluster</th>\n",
       "      <th></th>\n",
       "      <th></th>\n",
       "      <th></th>\n",
       "      <th></th>\n",
       "      <th></th>\n",
       "    </tr>\n",
       "  </thead>\n",
       "  <tbody>\n",
       "    <tr>\n",
       "      <th>0</th>\n",
       "      <td>9</td>\n",
       "      <td>9</td>\n",
       "      <td>9</td>\n",
       "      <td>9</td>\n",
       "      <td>9</td>\n",
       "    </tr>\n",
       "    <tr>\n",
       "      <th>1</th>\n",
       "      <td>1</td>\n",
       "      <td>1</td>\n",
       "      <td>1</td>\n",
       "      <td>1</td>\n",
       "      <td>1</td>\n",
       "    </tr>\n",
       "    <tr>\n",
       "      <th>2</th>\n",
       "      <td>6</td>\n",
       "      <td>6</td>\n",
       "      <td>6</td>\n",
       "      <td>6</td>\n",
       "      <td>6</td>\n",
       "    </tr>\n",
       "    <tr>\n",
       "      <th>3</th>\n",
       "      <td>1</td>\n",
       "      <td>1</td>\n",
       "      <td>1</td>\n",
       "      <td>1</td>\n",
       "      <td>1</td>\n",
       "    </tr>\n",
       "  </tbody>\n",
       "</table>\n",
       "</div>"
      ],
      "text/plain": [
       "         지역  지점수(미래엔)  지점수(해법)  1인당 개인소득(천원)  초등생_사교육지출(만원)\n",
       "cluster                                                    \n",
       "0         9         9        9             9              9\n",
       "1         1         1        1             1              1\n",
       "2         6         6        6             6              6\n",
       "3         1         1        1             1              1"
      ]
     },
     "execution_count": 194,
     "metadata": {},
     "output_type": "execute_result"
    }
   ],
   "source": [
    "#cluster를 기준으로 데이터 개수 세기\n",
    "df.groupby('cluster').count()"
   ]
  },
  {
   "cell_type": "code",
   "execution_count": 195,
   "id": "47079922",
   "metadata": {},
   "outputs": [
    {
     "name": "stderr",
     "output_type": "stream",
     "text": [
      "C:\\Users\\leah5\\AppData\\Local\\Temp\\ipykernel_4428\\1757719743.py:2: FutureWarning:\n",
      "\n",
      "The default value of numeric_only in DataFrameGroupBy.mean is deprecated. In a future version, numeric_only will default to False. Either specify numeric_only or select only columns which should be valid for the function.\n",
      "\n"
     ]
    },
    {
     "data": {
      "text/html": [
       "<div>\n",
       "<style scoped>\n",
       "    .dataframe tbody tr th:only-of-type {\n",
       "        vertical-align: middle;\n",
       "    }\n",
       "\n",
       "    .dataframe tbody tr th {\n",
       "        vertical-align: top;\n",
       "    }\n",
       "\n",
       "    .dataframe thead th {\n",
       "        text-align: right;\n",
       "    }\n",
       "</style>\n",
       "<table border=\"1\" class=\"dataframe\">\n",
       "  <thead>\n",
       "    <tr style=\"text-align: right;\">\n",
       "      <th></th>\n",
       "      <th>지점수(미래엔)</th>\n",
       "      <th>지점수(해법)</th>\n",
       "      <th>1인당 개인소득(천원)</th>\n",
       "      <th>초등생_사교육지출(만원)</th>\n",
       "    </tr>\n",
       "    <tr>\n",
       "      <th>cluster</th>\n",
       "      <th></th>\n",
       "      <th></th>\n",
       "      <th></th>\n",
       "      <th></th>\n",
       "    </tr>\n",
       "  </thead>\n",
       "  <tbody>\n",
       "    <tr>\n",
       "      <th>0</th>\n",
       "      <td>44.222222</td>\n",
       "      <td>76.333333</td>\n",
       "      <td>20914.777778</td>\n",
       "      <td>25.577778</td>\n",
       "    </tr>\n",
       "    <tr>\n",
       "      <th>1</th>\n",
       "      <td>111.000000</td>\n",
       "      <td>386.000000</td>\n",
       "      <td>25256.000000</td>\n",
       "      <td>47.300000</td>\n",
       "    </tr>\n",
       "    <tr>\n",
       "      <th>2</th>\n",
       "      <td>27.500000</td>\n",
       "      <td>60.333333</td>\n",
       "      <td>22471.000000</td>\n",
       "      <td>31.916667</td>\n",
       "    </tr>\n",
       "    <tr>\n",
       "      <th>3</th>\n",
       "      <td>378.000000</td>\n",
       "      <td>861.000000</td>\n",
       "      <td>21937.000000</td>\n",
       "      <td>34.600000</td>\n",
       "    </tr>\n",
       "  </tbody>\n",
       "</table>\n",
       "</div>"
      ],
      "text/plain": [
       "           지점수(미래엔)     지점수(해법)  1인당 개인소득(천원)  초등생_사교육지출(만원)\n",
       "cluster                                                     \n",
       "0         44.222222   76.333333  20914.777778      25.577778\n",
       "1        111.000000  386.000000  25256.000000      47.300000\n",
       "2         27.500000   60.333333  22471.000000      31.916667\n",
       "3        378.000000  861.000000  21937.000000      34.600000"
      ]
     },
     "execution_count": 195,
     "metadata": {},
     "output_type": "execute_result"
    }
   ],
   "source": [
    "#그룹별 특징을 알아보자! -그룹별 평균값\n",
    "df.groupby('cluster').mean()"
   ]
  },
  {
   "cell_type": "code",
   "execution_count": 196,
   "id": "2ba08fed",
   "metadata": {},
   "outputs": [
    {
     "data": {
      "text/plain": [
       "2     경남\n",
       "3     인천\n",
       "5     충남\n",
       "7     경북\n",
       "8     전남\n",
       "9     전북\n",
       "10    충북\n",
       "11    제주\n",
       "15    강원\n",
       "Name: 지역, dtype: object"
      ]
     },
     "execution_count": 196,
     "metadata": {},
     "output_type": "execute_result"
    }
   ],
   "source": [
    "df[df['cluster']==0]['지역']"
   ]
  },
  {
   "cell_type": "code",
   "execution_count": 197,
   "id": "4a788785",
   "metadata": {},
   "outputs": [
    {
     "data": {
      "text/plain": [
       "1    서울\n",
       "Name: 지역, dtype: object"
      ]
     },
     "execution_count": 197,
     "metadata": {},
     "output_type": "execute_result"
    }
   ],
   "source": [
    "df[df['cluster']==1]['지역']"
   ]
  },
  {
   "cell_type": "code",
   "execution_count": 198,
   "id": "078164c1",
   "metadata": {},
   "outputs": [
    {
     "data": {
      "text/plain": [
       "4     부산\n",
       "6     대구\n",
       "12    대전\n",
       "13    울산\n",
       "14    광주\n",
       "16    세종\n",
       "Name: 지역, dtype: object"
      ]
     },
     "execution_count": 198,
     "metadata": {},
     "output_type": "execute_result"
    }
   ],
   "source": [
    "df[df['cluster']==2]['지역']"
   ]
  },
  {
   "cell_type": "code",
   "execution_count": 199,
   "id": "8eab7c27",
   "metadata": {},
   "outputs": [
    {
     "data": {
      "text/plain": [
       "0    경기\n",
       "Name: 지역, dtype: object"
      ]
     },
     "execution_count": 199,
     "metadata": {},
     "output_type": "execute_result"
    }
   ],
   "source": [
    "df[df['cluster']==3]['지역']"
   ]
  },
  {
   "cell_type": "code",
   "execution_count": 200,
   "id": "e557e067",
   "metadata": {},
   "outputs": [
    {
     "name": "stderr",
     "output_type": "stream",
     "text": [
      "C:\\Users\\leah5\\AppData\\Local\\Temp\\ipykernel_4428\\4109590744.py:1: FutureWarning:\n",
      "\n",
      "The default value of numeric_only in DataFrameGroupBy.mean is deprecated. In a future version, numeric_only will default to False. Either specify numeric_only or select only columns which should be valid for the function.\n",
      "\n"
     ]
    },
    {
     "data": {
      "text/html": [
       "<div>\n",
       "<style scoped>\n",
       "    .dataframe tbody tr th:only-of-type {\n",
       "        vertical-align: middle;\n",
       "    }\n",
       "\n",
       "    .dataframe tbody tr th {\n",
       "        vertical-align: top;\n",
       "    }\n",
       "\n",
       "    .dataframe thead th {\n",
       "        text-align: right;\n",
       "    }\n",
       "</style>\n",
       "<table border=\"1\" class=\"dataframe\">\n",
       "  <thead>\n",
       "    <tr style=\"text-align: right;\">\n",
       "      <th></th>\n",
       "      <th>지점수(미래엔)</th>\n",
       "      <th>지점수(해법)</th>\n",
       "      <th>1인당 개인소득(천원)</th>\n",
       "      <th>초등생_사교육지출(만원)</th>\n",
       "    </tr>\n",
       "    <tr>\n",
       "      <th>cluster</th>\n",
       "      <th></th>\n",
       "      <th></th>\n",
       "      <th></th>\n",
       "      <th></th>\n",
       "    </tr>\n",
       "  </thead>\n",
       "  <tbody>\n",
       "    <tr>\n",
       "      <th>0</th>\n",
       "      <td>44.222222</td>\n",
       "      <td>76.333333</td>\n",
       "      <td>20914.777778</td>\n",
       "      <td>25.577778</td>\n",
       "    </tr>\n",
       "    <tr>\n",
       "      <th>1</th>\n",
       "      <td>111.000000</td>\n",
       "      <td>386.000000</td>\n",
       "      <td>25256.000000</td>\n",
       "      <td>47.300000</td>\n",
       "    </tr>\n",
       "    <tr>\n",
       "      <th>2</th>\n",
       "      <td>27.500000</td>\n",
       "      <td>60.333333</td>\n",
       "      <td>22471.000000</td>\n",
       "      <td>31.916667</td>\n",
       "    </tr>\n",
       "    <tr>\n",
       "      <th>3</th>\n",
       "      <td>378.000000</td>\n",
       "      <td>861.000000</td>\n",
       "      <td>21937.000000</td>\n",
       "      <td>34.600000</td>\n",
       "    </tr>\n",
       "  </tbody>\n",
       "</table>\n",
       "</div>"
      ],
      "text/plain": [
       "           지점수(미래엔)     지점수(해법)  1인당 개인소득(천원)  초등생_사교육지출(만원)\n",
       "cluster                                                     \n",
       "0         44.222222   76.333333  20914.777778      25.577778\n",
       "1        111.000000  386.000000  25256.000000      47.300000\n",
       "2         27.500000   60.333333  22471.000000      31.916667\n",
       "3        378.000000  861.000000  21937.000000      34.600000"
      ]
     },
     "execution_count": 200,
     "metadata": {},
     "output_type": "execute_result"
    }
   ],
   "source": [
    "df.groupby('cluster').mean()"
   ]
  },
  {
   "cell_type": "markdown",
   "id": "978d8db1",
   "metadata": {},
   "source": [
    "- 분류0 = 경남 충남 경북 전남 전북 충북 제주 강원 -> 지방권\n",
    "- 분류1 = 서울\n",
    "- 분류2 = 인천 부산 대구 대전 울산 광주 세종 -> 광역시\n",
    "- 분류3 = 경기\n",
    "- 결과 해석:\n",
    "    - 지점수 순위: 경기 > 서울 > 지방권 > 광역시\n",
    "    - 1인당 개인소득 순위: 서울 > 광역시 > 경기 > 지방권\n",
    "    - 사교육지출 순위: 서울 > 경기 > 광역시 > 지방권\n",
    "- 사교육지출이 지점 지역 선정에 중요한 요인인 것을 알 수 있다.\n",
    "- 앞으로 지역 선정이 되어야하는 곳은 지점수가 별로 없는 곳(블루오션)이면서 사교육지출 수치 예측이 높은 곳으로 선정해야한다."
   ]
  },
  {
   "cell_type": "markdown",
   "id": "f300fe59",
   "metadata": {},
   "source": [
    "## 해석 시각화"
   ]
  },
  {
   "cell_type": "code",
   "execution_count": 201,
   "id": "f2e17a0b",
   "metadata": {},
   "outputs": [],
   "source": [
    "import pandas as pd\n",
    "import matplotlib.pyplot as plt\n",
    "# -' 깨짐 해결'\n",
    "import matplotlib as mpl\n",
    "mpl.rcParams['axes.unicode_minus'] = False\n",
    "import seaborn as sns\n",
    "from scipy import stats\n",
    "# 한글 깨짐 해결\n",
    "plt.rc('font', family='Malgun Gothic')"
   ]
  },
  {
   "cell_type": "code",
   "execution_count": 202,
   "id": "4e4d62cc",
   "metadata": {},
   "outputs": [],
   "source": [
    "# 점포수"
   ]
  },
  {
   "cell_type": "code",
   "execution_count": 213,
   "id": "b2292ed1",
   "metadata": {},
   "outputs": [
    {
     "data": {
      "image/png": "[encoded data removed]",
      "text/plain": [
       "<Figure size 640x480 with 1 Axes>"
      ]
     },
     "metadata": {},
     "output_type": "display_data"
    }
   ],
   "source": [
    "sns.barplot(data=df, x='cluster', y='지점수(미래엔)', color='#B0C4DE')\n",
    "plt.xticks(ticks = [0, 1, 2, 3], labels=['지방권','서울','광역시','경기'])\n",
    "plt.xlabel('지역 분류')\n",
    "plt.ylabel('점포수')\n",
    "plt.title('미래엔수학의 지역분류 별 점포수 현황')\n",
    "plt.show()"
   ]
  },
  {
   "cell_type": "code",
   "execution_count": 214,
   "id": "1d7ccf0d",
   "metadata": {},
   "outputs": [
    {
     "data": {
      "image/png": "[encoded data removed]",
      "text/plain": [
       "<Figure size 640x480 with 1 Axes>"
      ]
     },
     "metadata": {},
     "output_type": "display_data"
    }
   ],
   "source": [
    "sns.barplot(data=df, x='cluster', y='지점수(해법)', color='#B0C4DE')\n",
    "plt.xticks(ticks = [0, 1, 2, 3], labels=['지방권','서울','광역시','경기'])\n",
    "plt.xlabel('지역 분류')\n",
    "plt.ylabel('점포수')\n",
    "plt.title('해법수학의 지역분류 별 점포수 현황')\n",
    "plt.show()"
   ]
  },
  {
   "cell_type": "code",
   "execution_count": 215,
   "id": "a1b86323",
   "metadata": {},
   "outputs": [
    {
     "data": {
      "image/png": "[encoded data removed]",
      "text/plain": [
       "<Figure size 640x480 with 1 Axes>"
      ]
     },
     "metadata": {},
     "output_type": "display_data"
    }
   ],
   "source": [
    "# 1인당 개인소득 순위\n",
    "sns.barplot(data=df, x='cluster', y='1인당 개인소득(천원)', color='#CD5C5C')\n",
    "plt.xticks(ticks = [0, 1, 2, 3], labels=['지방권','서울','광역시','경기'])\n",
    "plt.xlabel('지역 분류')\n",
    "plt.ylabel('1인당 개인소득(천원)')\n",
    "plt.title('지역분류 별 1인당 개인소득 현황')\n",
    "plt.show()"
   ]
  },
  {
   "cell_type": "code",
   "execution_count": 216,
   "id": "897a0713",
   "metadata": {},
   "outputs": [
    {
     "data": {
      "image/png": "[encoded data removed]",
      "text/plain": [
       "<Figure size 640x480 with 1 Axes>"
      ]
     },
     "metadata": {},
     "output_type": "display_data"
    }
   ],
   "source": [
    "# 사교육지출 순위\n",
    "sns.barplot(data=df, x='cluster', y='초등생_사교육지출(만원)', color='#F0E68C')\n",
    "plt.xticks(ticks = [0, 1, 2, 3], labels=['지방권','서울','광역시','경기'])\n",
    "plt.xlabel('지역 분류')\n",
    "plt.ylabel('사교육지출(만원)')\n",
    "plt.title('지역분류 별 사교육 지출 현황')\n",
    "plt.show()"
   ]
  },
  {
   "cell_type": "code",
   "execution_count": 208,
   "id": "02128eef",
   "metadata": {},
   "outputs": [],
   "source": [
    "# # 초등학교 수 비교\n",
    "# sns.barplot(data=df, x='cluster', y='초등학교수', color='#2E8B57')\n",
    "# plt.xticks(ticks = [0, 1, 2, 3], labels=['서울','지방권','경기','광역시'])\n",
    "# plt.xlabel('지역 분류')\n",
    "# plt.ylabel('초등학교수')\n",
    "# plt.title('지역분류 별 초등학교수 현황')\n",
    "# plt.show()"
   ]
  },
  {
   "cell_type": "code",
   "execution_count": 209,
   "id": "97780a62",
   "metadata": {},
   "outputs": [],
   "source": [
    "# # 공시가격 비교\n",
    "# sns.barplot(data=df, x='cluster', y='공시가격비율', color='#6495ED')\n",
    "# plt.xticks(ticks = [0, 1, 2, 3], labels=['서울','지방권','경기','광역시'])\n",
    "# plt.xlabel('지역 분류')\n",
    "# plt.ylabel('공시가격비율')\n",
    "# plt.title('지역분류 별 공시가격 현황')\n",
    "# plt.show()"
   ]
  },
  {
   "cell_type": "markdown",
   "id": "91971d27",
   "metadata": {},
   "source": [
    "## 클러스터링 결과 시각화 (차원 축소 활용)\n",
    "- pca 주성분분석"
   ]
  },
  {
   "cell_type": "code",
   "execution_count": 210,
   "id": "2e125f5d",
   "metadata": {},
   "outputs": [
    {
     "data": {
      "text/plain": [
       "array([[ 4.74513078e+00, -2.27742822e+00],\n",
       "       [ 3.18216917e+00,  2.46243694e+00],\n",
       "       [-3.52893364e-01, -1.10066907e+00],\n",
       "       [-1.08165765e-01, -2.23736198e-01],\n",
       "       [ 1.96650095e-01, -8.46924717e-04],\n",
       "       [-8.30524555e-01, -6.08752894e-01],\n",
       "       [ 2.33700906e-01,  3.20945127e-01],\n",
       "       [-6.34651849e-01, -7.04299754e-01],\n",
       "       [-1.12519013e+00, -7.70303996e-01],\n",
       "       [-1.04383095e+00, -6.42959138e-01],\n",
       "       [-7.43763531e-01, -2.00637046e-01],\n",
       "       [-1.13337720e+00, -4.58556984e-01],\n",
       "       [-6.18185098e-02,  1.20357565e+00],\n",
       "       [-1.63012331e-01,  1.92498303e+00],\n",
       "       [-5.99065006e-01,  5.57840414e-01],\n",
       "       [-1.14131092e+00, -3.66149859e-01],\n",
       "       [-4.20046835e-01,  8.84558915e-01]])"
      ]
     },
     "execution_count": 210,
     "metadata": {},
     "output_type": "execute_result"
    }
   ],
   "source": [
    "from sklearn.decomposition import PCA\n",
    "X = df_scaled.copy()\n",
    "\n",
    "#객체\n",
    "pca = PCA(n_components=2)\n",
    "\n",
    "#적용\n",
    "pca.fit(X)\n",
    "x_pca = pca.transform(X)\n",
    "x_pca"
   ]
  },
  {
   "cell_type": "code",
   "execution_count": 211,
   "id": "d16ff106",
   "metadata": {},
   "outputs": [
    {
     "data": {
      "text/html": [
       "<div>\n",
       "<style scoped>\n",
       "    .dataframe tbody tr th:only-of-type {\n",
       "        vertical-align: middle;\n",
       "    }\n",
       "\n",
       "    .dataframe tbody tr th {\n",
       "        vertical-align: top;\n",
       "    }\n",
       "\n",
       "    .dataframe thead th {\n",
       "        text-align: right;\n",
       "    }\n",
       "</style>\n",
       "<table border=\"1\" class=\"dataframe\">\n",
       "  <thead>\n",
       "    <tr style=\"text-align: right;\">\n",
       "      <th></th>\n",
       "      <th>0</th>\n",
       "      <th>1</th>\n",
       "      <th>cluster</th>\n",
       "    </tr>\n",
       "  </thead>\n",
       "  <tbody>\n",
       "    <tr>\n",
       "      <th>0</th>\n",
       "      <td>4.745131</td>\n",
       "      <td>-2.277428</td>\n",
       "      <td>3</td>\n",
       "    </tr>\n",
       "    <tr>\n",
       "      <th>1</th>\n",
       "      <td>3.182169</td>\n",
       "      <td>2.462437</td>\n",
       "      <td>1</td>\n",
       "    </tr>\n",
       "    <tr>\n",
       "      <th>2</th>\n",
       "      <td>-0.352893</td>\n",
       "      <td>-1.100669</td>\n",
       "      <td>0</td>\n",
       "    </tr>\n",
       "    <tr>\n",
       "      <th>3</th>\n",
       "      <td>-0.108166</td>\n",
       "      <td>-0.223736</td>\n",
       "      <td>0</td>\n",
       "    </tr>\n",
       "    <tr>\n",
       "      <th>4</th>\n",
       "      <td>0.196650</td>\n",
       "      <td>-0.000847</td>\n",
       "      <td>2</td>\n",
       "    </tr>\n",
       "    <tr>\n",
       "      <th>5</th>\n",
       "      <td>-0.830525</td>\n",
       "      <td>-0.608753</td>\n",
       "      <td>0</td>\n",
       "    </tr>\n",
       "    <tr>\n",
       "      <th>6</th>\n",
       "      <td>0.233701</td>\n",
       "      <td>0.320945</td>\n",
       "      <td>2</td>\n",
       "    </tr>\n",
       "    <tr>\n",
       "      <th>7</th>\n",
       "      <td>-0.634652</td>\n",
       "      <td>-0.704300</td>\n",
       "      <td>0</td>\n",
       "    </tr>\n",
       "    <tr>\n",
       "      <th>8</th>\n",
       "      <td>-1.125190</td>\n",
       "      <td>-0.770304</td>\n",
       "      <td>0</td>\n",
       "    </tr>\n",
       "    <tr>\n",
       "      <th>9</th>\n",
       "      <td>-1.043831</td>\n",
       "      <td>-0.642959</td>\n",
       "      <td>0</td>\n",
       "    </tr>\n",
       "    <tr>\n",
       "      <th>10</th>\n",
       "      <td>-0.743764</td>\n",
       "      <td>-0.200637</td>\n",
       "      <td>0</td>\n",
       "    </tr>\n",
       "    <tr>\n",
       "      <th>11</th>\n",
       "      <td>-1.133377</td>\n",
       "      <td>-0.458557</td>\n",
       "      <td>0</td>\n",
       "    </tr>\n",
       "    <tr>\n",
       "      <th>12</th>\n",
       "      <td>-0.061819</td>\n",
       "      <td>1.203576</td>\n",
       "      <td>2</td>\n",
       "    </tr>\n",
       "    <tr>\n",
       "      <th>13</th>\n",
       "      <td>-0.163012</td>\n",
       "      <td>1.924983</td>\n",
       "      <td>2</td>\n",
       "    </tr>\n",
       "    <tr>\n",
       "      <th>14</th>\n",
       "      <td>-0.599065</td>\n",
       "      <td>0.557840</td>\n",
       "      <td>2</td>\n",
       "    </tr>\n",
       "    <tr>\n",
       "      <th>15</th>\n",
       "      <td>-1.141311</td>\n",
       "      <td>-0.366150</td>\n",
       "      <td>0</td>\n",
       "    </tr>\n",
       "    <tr>\n",
       "      <th>16</th>\n",
       "      <td>-0.420047</td>\n",
       "      <td>0.884559</td>\n",
       "      <td>2</td>\n",
       "    </tr>\n",
       "  </tbody>\n",
       "</table>\n",
       "</div>"
      ],
      "text/plain": [
       "           0         1  cluster\n",
       "0   4.745131 -2.277428        3\n",
       "1   3.182169  2.462437        1\n",
       "2  -0.352893 -1.100669        0\n",
       "3  -0.108166 -0.223736        0\n",
       "4   0.196650 -0.000847        2\n",
       "5  -0.830525 -0.608753        0\n",
       "6   0.233701  0.320945        2\n",
       "7  -0.634652 -0.704300        0\n",
       "8  -1.125190 -0.770304        0\n",
       "9  -1.043831 -0.642959        0\n",
       "10 -0.743764 -0.200637        0\n",
       "11 -1.133377 -0.458557        0\n",
       "12 -0.061819  1.203576        2\n",
       "13 -0.163012  1.924983        2\n",
       "14 -0.599065  0.557840        2\n",
       "15 -1.141311 -0.366150        0\n",
       "16 -0.420047  0.884559        2"
      ]
     },
     "execution_count": 211,
     "metadata": {},
     "output_type": "execute_result"
    }
   ],
   "source": [
    "#x_pca를 보기 쉽게 데이터프레임으로 만들기\n",
    "pca_df = pd.DataFrame(x_pca)\n",
    "pca_df['cluster'] = df['cluster'] \n",
    "pca_df"
   ]
  },
  {
   "cell_type": "code",
   "execution_count": 212,
   "id": "d6d2be94",
   "metadata": {},
   "outputs": [
    {
     "data": {
      "image/png": "[encoded data removed]",
      "text/plain": [
       "<Figure size 640x480 with 1 Axes>"
      ]
     },
     "metadata": {},
     "output_type": "display_data"
    }
   ],
   "source": [
    "for i in sorted(pca_df['cluster'].unique()):\n",
    "    tmp = pca_df.loc[pca_df['cluster'] == i] #해당하는 클러스터 번호일 때 그림을 그리고, for문 실행하며 위에 덧그림 \n",
    "    plt.scatter(tmp[0], tmp[1])\n",
    "    plt.legend(sorted(pca_df['cluster'].unique()))"
   ]
  },
  {
   "cell_type": "markdown",
   "id": "f475dcce",
   "metadata": {},
   "source": [
    "## 사교육지출, 지점수 상관관계 분석\n",
    "- 미래엔의 지점수, 해법수학의 지점수, 사교육지출 이 세가지 변수가 정말 연관이 있을까?\n",
    "\n",
    "## 네가지 분류의 사교육 지출과 지점수 사이의 차이 알아보기"
   ]
  },
  {
   "cell_type": "code",
   "execution_count": 217,
   "id": "fb7180f7",
   "metadata": {},
   "outputs": [
    {
     "data": {
      "text/plain": [
       "ShapiroResult(statistic=0.8772074580192566, pvalue=0.028658227995038033)"
      ]
     },
     "execution_count": 217,
     "metadata": {},
     "output_type": "execute_result"
    }
   ],
   "source": [
    "# 초등학교, 지점수 상관관계 분석\n",
    "# p < 0.05 이므로 정규성을 불만족한다.\n",
    "from scipy import stats\n",
    "stats.shapiro(df['초등생_사교육지출(만원)'])"
   ]
  },
  {
   "cell_type": "code",
   "execution_count": 218,
   "id": "743fda35",
   "metadata": {},
   "outputs": [
    {
     "data": {
      "text/plain": [
       "ShapiroResult(statistic=0.5702352523803711, pvalue=5.436605533759575e-06)"
      ]
     },
     "execution_count": 218,
     "metadata": {},
     "output_type": "execute_result"
    }
   ],
   "source": [
    "stats.shapiro(df['지점수(미래엔)'])"
   ]
  },
  {
   "cell_type": "code",
   "execution_count": 136,
   "id": "8ef7a015",
   "metadata": {},
   "outputs": [
    {
     "data": {
      "text/plain": [
       "ShapiroResult(statistic=0.5637425184249878, pvalue=4.734903541248059e-06)"
      ]
     },
     "execution_count": 136,
     "metadata": {},
     "output_type": "execute_result"
    }
   ],
   "source": [
    "stats.shapiro(df['지점수(해법)'])"
   ]
  },
  {
   "cell_type": "code",
   "execution_count": 234,
   "id": "2e59d77e",
   "metadata": {},
   "outputs": [
    {
     "data": {
      "text/plain": [
       "SignificanceResult(statistic=0.9135501410535354, pvalue=3.023568444562827e-07)"
      ]
     },
     "execution_count": 234,
     "metadata": {},
     "output_type": "execute_result"
    }
   ],
   "source": [
    "# 상관관계 분석 - 스피어만 상관계수\n",
    "# p < 0.05, 두 변수 사이에 상관관계가 있다.\n",
    "stats.spearmanr(df['지점수(미래엔)'], df['지점수(해법)'])"
   ]
  },
  {
   "cell_type": "code",
   "execution_count": 235,
   "id": "96490909",
   "metadata": {},
   "outputs": [
    {
     "data": {
      "text/plain": [
       "SignificanceResult(statistic=0.22058823529411767, pvalue=0.3948890883363402)"
      ]
     },
     "execution_count": 235,
     "metadata": {},
     "output_type": "execute_result"
    }
   ],
   "source": [
    "# p > 0.05, 두 변수 사이에 상관관계가 없다.\n",
    "stats.spearmanr(df['초등생_사교육지출(만원)'], df['지점수(해법)'])"
   ]
  },
  {
   "cell_type": "code",
   "execution_count": 236,
   "id": "a0f2b22a",
   "metadata": {},
   "outputs": [
    {
     "data": {
      "text/plain": [
       "SignificanceResult(statistic=0.22808097481336587, pvalue=0.3786102977636938)"
      ]
     },
     "execution_count": 236,
     "metadata": {},
     "output_type": "execute_result"
    }
   ],
   "source": [
    "# p > 0.05, 두 변수 사이에 상관관계가 없다.\n",
    "stats.spearmanr(df['초등생_사교육지출(만원)'], df['지점수(미래엔)'])"
   ]
  },
  {
   "cell_type": "markdown",
   "id": "0ba81a89",
   "metadata": {},
   "source": [
    "- 해석: 상관관계 분석을 한 결과, 지점수(미래앤,해법)간의 연관은 있으나, 사교육지출과 지점수 간의 연관은 없는 것으로 나온다."
   ]
  },
  {
   "cell_type": "code",
   "execution_count": 237,
   "id": "cc766db1",
   "metadata": {},
   "outputs": [
    {
     "data": {
      "application/vnd.plotly.v1+json": {
       "config": {
        "plotlyServerURL": "https://plot.ly"
       },
       "data": [
        {
         "hovertemplate": "지역=경기<br>초등생_사교육지출(만원)=%{x}<br>지점수(미래엔)=%{y}<br>지점수(해법)=%{z}<extra></extra>",
         "legendgroup": "경기",
         "marker": {
          "color": "#636efa",
          "symbol": "circle"
         },
         "mode": "markers",
         "name": "경기",
         "scene": "scene",
         "showlegend": true,
         "type": "scatter3d",
         "x": [
          34.6
         ],
         "y": [
          378
         ],
         "z": [
          861
         ]
        },
        {
         "hovertemplate": "지역=서울<br>초등생_사교육지출(만원)=%{x}<br>지점수(미래엔)=%{y}<br>지점수(해법)=%{z}<extra></extra>",
         "legendgroup": "서울",
         "marker": {
          "color": "#EF553B",
          "symbol": "circle"
         },
         "mode": "markers",
         "name": "서울",
         "scene": "scene",
         "showlegend": true,
         "type": "scatter3d",
         "x": [
          47.3
         ],
         "y": [
          111
         ],
         "z": [
          386
         ]
        },
        {
         "hovertemplate": "지역=경남<br>초등생_사교육지출(만원)=%{x}<br>지점수(미래엔)=%{y}<br>지점수(해법)=%{z}<extra></extra>",
         "legendgroup": "경남",
         "marker": {
          "color": "#00cc96",
          "symbol": "circle"
         },
         "mode": "markers",
         "name": "경남",
         "scene": "scene",
         "showlegend": true,
         "type": "scatter3d",
         "x": [
          24.9
         ],
         "y": [
          88
         ],
         "z": [
          159
         ]
        },
        {
         "hovertemplate": "지역=인천<br>초등생_사교육지출(만원)=%{x}<br>지점수(미래엔)=%{y}<br>지점수(해법)=%{z}<extra></extra>",
         "legendgroup": "인천",
         "marker": {
          "color": "#ab63fa",
          "symbol": "circle"
         },
         "mode": "markers",
         "name": "인천",
         "scene": "scene",
         "showlegend": true,
         "type": "scatter3d",
         "x": [
          29.8
         ],
         "y": [
          69
         ],
         "z": [
          112
         ]
        },
        {
         "hovertemplate": "지역=부산<br>초등생_사교육지출(만원)=%{x}<br>지점수(미래엔)=%{y}<br>지점수(해법)=%{z}<extra></extra>",
         "legendgroup": "부산",
         "marker": {
          "color": "#FFA15A",
          "symbol": "circle"
         },
         "mode": "markers",
         "name": "부산",
         "scene": "scene",
         "showlegend": true,
         "type": "scatter3d",
         "x": [
          32.8
         ],
         "y": [
          60
         ],
         "z": [
          155
         ]
        },
        {
         "hovertemplate": "지역=충남<br>초등생_사교육지출(만원)=%{x}<br>지점수(미래엔)=%{y}<br>지점수(해법)=%{z}<extra></extra>",
         "legendgroup": "충남",
         "marker": {
          "color": "#19d3f3",
          "symbol": "circle"
         },
         "mode": "markers",
         "name": "충남",
         "scene": "scene",
         "showlegend": true,
         "type": "scatter3d",
         "x": [
          23.3
         ],
         "y": [
          57
         ],
         "z": [
          67
         ]
        },
        {
         "hovertemplate": "지역=대구<br>초등생_사교육지출(만원)=%{x}<br>지점수(미래엔)=%{y}<br>지점수(해법)=%{z}<extra></extra>",
         "legendgroup": "대구",
         "marker": {
          "color": "#FF6692",
          "symbol": "circle"
         },
         "mode": "markers",
         "name": "대구",
         "scene": "scene",
         "showlegend": true,
         "type": "scatter3d",
         "x": [
          37.4
         ],
         "y": [
          55
         ],
         "z": [
          85
         ]
        },
        {
         "hovertemplate": "지역=경북<br>초등생_사교육지출(만원)=%{x}<br>지점수(미래엔)=%{y}<br>지점수(해법)=%{z}<extra></extra>",
         "legendgroup": "경북",
         "marker": {
          "color": "#B6E880",
          "symbol": "circle"
         },
         "mode": "markers",
         "name": "경북",
         "scene": "scene",
         "showlegend": true,
         "type": "scatter3d",
         "x": [
          26.4
         ],
         "y": [
          45
         ],
         "z": [
          123
         ]
        },
        {
         "hovertemplate": "지역=전남<br>초등생_사교육지출(만원)=%{x}<br>지점수(미래엔)=%{y}<br>지점수(해법)=%{z}<extra></extra>",
         "legendgroup": "전남",
         "marker": {
          "color": "#FF97FF",
          "symbol": "circle"
         },
         "mode": "markers",
         "name": "전남",
         "scene": "scene",
         "showlegend": true,
         "type": "scatter3d",
         "x": [
          22.4
         ],
         "y": [
          41
         ],
         "z": [
          55
         ]
        },
        {
         "hovertemplate": "지역=전북<br>초등생_사교육지출(만원)=%{x}<br>지점수(미래엔)=%{y}<br>지점수(해법)=%{z}<extra></extra>",
         "legendgroup": "전북",
         "marker": {
          "color": "#FECB52",
          "symbol": "circle"
         },
         "mode": "markers",
         "name": "전북",
         "scene": "scene",
         "showlegend": true,
         "type": "scatter3d",
         "x": [
          23.9
         ],
         "y": [
          35
         ],
         "z": [
          59
         ]
        },
        {
         "hovertemplate": "지역=충북<br>초등생_사교육지출(만원)=%{x}<br>지점수(미래엔)=%{y}<br>지점수(해법)=%{z}<extra></extra>",
         "legendgroup": "충북",
         "marker": {
          "color": "#636efa",
          "symbol": "circle"
         },
         "mode": "markers",
         "name": "충북",
         "scene": "scene",
         "showlegend": true,
         "type": "scatter3d",
         "x": [
          27.9
         ],
         "y": [
          32
         ],
         "z": [
          49
         ]
        },
        {
         "hovertemplate": "지역=제주<br>초등생_사교육지출(만원)=%{x}<br>지점수(미래엔)=%{y}<br>지점수(해법)=%{z}<extra></extra>",
         "legendgroup": "제주",
         "marker": {
          "color": "#EF553B",
          "symbol": "circle"
         },
         "mode": "markers",
         "name": "제주",
         "scene": "scene",
         "showlegend": true,
         "type": "scatter3d",
         "x": [
          27
         ],
         "y": [
          19
         ],
         "z": [
          15
         ]
        },
        {
         "hovertemplate": "지역=대전<br>초등생_사교육지출(만원)=%{x}<br>지점수(미래엔)=%{y}<br>지점수(해법)=%{z}<extra></extra>",
         "legendgroup": "대전",
         "marker": {
          "color": "#00cc96",
          "symbol": "circle"
         },
         "mode": "markers",
         "name": "대전",
         "scene": "scene",
         "showlegend": true,
         "type": "scatter3d",
         "x": [
          34.1
         ],
         "y": [
          17
         ],
         "z": [
          35
         ]
        },
        {
         "hovertemplate": "지역=울산<br>초등생_사교육지출(만원)=%{x}<br>지점수(미래엔)=%{y}<br>지점수(해법)=%{z}<extra></extra>",
         "legendgroup": "울산",
         "marker": {
          "color": "#ab63fa",
          "symbol": "circle"
         },
         "mode": "markers",
         "name": "울산",
         "scene": "scene",
         "showlegend": true,
         "type": "scatter3d",
         "x": [
          26.7
         ],
         "y": [
          16
         ],
         "z": [
          16
         ]
        },
        {
         "hovertemplate": "지역=광주<br>초등생_사교육지출(만원)=%{x}<br>지점수(미래엔)=%{y}<br>지점수(해법)=%{z}<extra></extra>",
         "legendgroup": "광주",
         "marker": {
          "color": "#FFA15A",
          "symbol": "circle"
         },
         "mode": "markers",
         "name": "광주",
         "scene": "scene",
         "showlegend": true,
         "type": "scatter3d",
         "x": [
          27.4
         ],
         "y": [
          16
         ],
         "z": [
          46
         ]
        },
        {
         "hovertemplate": "지역=강원<br>초등생_사교육지출(만원)=%{x}<br>지점수(미래엔)=%{y}<br>지점수(해법)=%{z}<extra></extra>",
         "legendgroup": "강원",
         "marker": {
          "color": "#19d3f3",
          "symbol": "circle"
         },
         "mode": "markers",
         "name": "강원",
         "scene": "scene",
         "showlegend": true,
         "type": "scatter3d",
         "x": [
          24.6
         ],
         "y": [
          12
         ],
         "z": [
          48
         ]
        },
        {
         "hovertemplate": "지역=세종<br>초등생_사교육지출(만원)=%{x}<br>지점수(미래엔)=%{y}<br>지점수(해법)=%{z}<extra></extra>",
         "legendgroup": "세종",
         "marker": {
          "color": "#FF6692",
          "symbol": "circle"
         },
         "mode": "markers",
         "name": "세종",
         "scene": "scene",
         "showlegend": true,
         "type": "scatter3d",
         "x": [
          33.1
         ],
         "y": [
          1
         ],
         "z": [
          25
         ]
        }
       ],
       "layout": {
        "height": 480,
        "legend": {
         "title": {
          "text": "지역"
         },
         "tracegroupgap": 0
        },
        "margin": {
         "t": 60
        },
        "scene": {
         "domain": {
          "x": [
           0,
           1
          ],
          "y": [
           0,
           1
          ]
         },
         "xaxis": {
          "title": {
           "text": "초등생_사교육지출(만원)"
          }
         },
         "yaxis": {
          "title": {
           "text": "지점수(미래엔)"
          }
         },
         "zaxis": {
          "title": {
           "text": "지점수(해법)"
          }
         }
        },
        "template": {
         "data": {
          "bar": [
           {
            "error_x": {
             "color": "#2a3f5f"
            },
            "error_y": {
             "color": "#2a3f5f"
            },
            "marker": {
             "line": {
              "color": "#E5ECF6",
              "width": 0.5
             },
             "pattern": {
              "fillmode": "overlay",
              "size": 10,
              "solidity": 0.2
             }
            },
            "type": "bar"
           }
          ],
          "barpolar": [
           {
            "marker": {
             "line": {
              "color": "#E5ECF6",
              "width": 0.5
             },
             "pattern": {
              "fillmode": "overlay",
              "size": 10,
              "solidity": 0.2
             }
            },
            "type": "barpolar"
           }
          ],
          "carpet": [
           {
            "aaxis": {
             "endlinecolor": "#2a3f5f",
             "gridcolor": "white",
             "linecolor": "white",
             "minorgridcolor": "white",
             "startlinecolor": "#2a3f5f"
            },
            "baxis": {
             "endlinecolor": "#2a3f5f",
             "gridcolor": "white",
             "linecolor": "white",
             "minorgridcolor": "white",
             "startlinecolor": "#2a3f5f"
            },
            "type": "carpet"
           }
          ],
          "choropleth": [
           {
            "colorbar": {
             "outlinewidth": 0,
             "ticks": ""
            },
            "type": "choropleth"
           }
          ],
          "contour": [
           {
            "colorbar": {
             "outlinewidth": 0,
             "ticks": ""
            },
            "colorscale": [
             [
              0,
              "#0d0887"
             ],
             [
              0.1111111111111111,
              "#46039f"
             ],
             [
              0.2222222222222222,
              "#7201a8"
             ],
             [
              0.3333333333333333,
              "#9c179e"
             ],
             [
              0.4444444444444444,
              "#bd3786"
             ],
             [
              0.5555555555555556,
              "#d8576b"
             ],
             [
              0.6666666666666666,
              "#ed7953"
             ],
             [
              0.7777777777777778,
              "#fb9f3a"
             ],
             [
              0.8888888888888888,
              "#fdca26"
             ],
             [
              1,
              "#f0f921"
             ]
            ],
            "type": "contour"
           }
          ],
          "contourcarpet": [
           {
            "colorbar": {
             "outlinewidth": 0,
             "ticks": ""
            },
            "type": "contourcarpet"
           }
          ],
          "heatmap": [
           {
            "colorbar": {
             "outlinewidth": 0,
             "ticks": ""
            },
            "colorscale": [
             [
              0,
              "#0d0887"
             ],
             [
              0.1111111111111111,
              "#46039f"
             ],
             [
              0.2222222222222222,
              "#7201a8"
             ],
             [
              0.3333333333333333,
              "#9c179e"
             ],
             [
              0.4444444444444444,
              "#bd3786"
             ],
             [
              0.5555555555555556,
              "#d8576b"
             ],
             [
              0.6666666666666666,
              "#ed7953"
             ],
             [
              0.7777777777777778,
              "#fb9f3a"
             ],
             [
              0.8888888888888888,
              "#fdca26"
             ],
             [
              1,
              "#f0f921"
             ]
            ],
            "type": "heatmap"
           }
          ],
          "heatmapgl": [
           {
            "colorbar": {
             "outlinewidth": 0,
             "ticks": ""
            },
            "colorscale": [
             [
              0,
              "#0d0887"
             ],
             [
              0.1111111111111111,
              "#46039f"
             ],
             [
              0.2222222222222222,
              "#7201a8"
             ],
             [
              0.3333333333333333,
              "#9c179e"
             ],
             [
              0.4444444444444444,
              "#bd3786"
             ],
             [
              0.5555555555555556,
              "#d8576b"
             ],
             [
              0.6666666666666666,
              "#ed7953"
             ],
             [
              0.7777777777777778,
              "#fb9f3a"
             ],
             [
              0.8888888888888888,
              "#fdca26"
             ],
             [
              1,
              "#f0f921"
             ]
            ],
            "type": "heatmapgl"
           }
          ],
          "histogram": [
           {
            "marker": {
             "pattern": {
              "fillmode": "overlay",
              "size": 10,
              "solidity": 0.2
             }
            },
            "type": "histogram"
           }
          ],
          "histogram2d": [
           {
            "colorbar": {
             "outlinewidth": 0,
             "ticks": ""
            },
            "colorscale": [
             [
              0,
              "#0d0887"
             ],
             [
              0.1111111111111111,
              "#46039f"
             ],
             [
              0.2222222222222222,
              "#7201a8"
             ],
             [
              0.3333333333333333,
              "#9c179e"
             ],
             [
              0.4444444444444444,
              "#bd3786"
             ],
             [
              0.5555555555555556,
              "#d8576b"
             ],
             [
              0.6666666666666666,
              "#ed7953"
             ],
             [
              0.7777777777777778,
              "#fb9f3a"
             ],
             [
              0.8888888888888888,
              "#fdca26"
             ],
             [
              1,
              "#f0f921"
             ]
            ],
            "type": "histogram2d"
           }
          ],
          "histogram2dcontour": [
           {
            "colorbar": {
             "outlinewidth": 0,
             "ticks": ""
            },
            "colorscale": [
             [
              0,
              "#0d0887"
             ],
             [
              0.1111111111111111,
              "#46039f"
             ],
             [
              0.2222222222222222,
              "#7201a8"
             ],
             [
              0.3333333333333333,
              "#9c179e"
             ],
             [
              0.4444444444444444,
              "#bd3786"
             ],
             [
              0.5555555555555556,
              "#d8576b"
             ],
             [
              0.6666666666666666,
              "#ed7953"
             ],
             [
              0.7777777777777778,
              "#fb9f3a"
             ],
             [
              0.8888888888888888,
              "#fdca26"
             ],
             [
              1,
              "#f0f921"
             ]
            ],
            "type": "histogram2dcontour"
           }
          ],
          "mesh3d": [
           {
            "colorbar": {
             "outlinewidth": 0,
             "ticks": ""
            },
            "type": "mesh3d"
           }
          ],
          "parcoords": [
           {
            "line": {
             "colorbar": {
              "outlinewidth": 0,
              "ticks": ""
             }
            },
            "type": "parcoords"
           }
          ],
          "pie": [
           {
            "automargin": true,
            "type": "pie"
           }
          ],
          "scatter": [
           {
            "fillpattern": {
             "fillmode": "overlay",
             "size": 10,
             "solidity": 0.2
            },
            "type": "scatter"
           }
          ],
          "scatter3d": [
           {
            "line": {
             "colorbar": {
              "outlinewidth": 0,
              "ticks": ""
             }
            },
            "marker": {
             "colorbar": {
              "outlinewidth": 0,
              "ticks": ""
             }
            },
            "type": "scatter3d"
           }
          ],
          "scattercarpet": [
           {
            "marker": {
             "colorbar": {
              "outlinewidth": 0,
              "ticks": ""
             }
            },
            "type": "scattercarpet"
           }
          ],
          "scattergeo": [
           {
            "marker": {
             "colorbar": {
              "outlinewidth": 0,
              "ticks": ""
             }
            },
            "type": "scattergeo"
           }
          ],
          "scattergl": [
           {
            "marker": {
             "colorbar": {
              "outlinewidth": 0,
              "ticks": ""
             }
            },
            "type": "scattergl"
           }
          ],
          "scattermapbox": [
           {
            "marker": {
             "colorbar": {
              "outlinewidth": 0,
              "ticks": ""
             }
            },
            "type": "scattermapbox"
           }
          ],
          "scatterpolar": [
           {
            "marker": {
             "colorbar": {
              "outlinewidth": 0,
              "ticks": ""
             }
            },
            "type": "scatterpolar"
           }
          ],
          "scatterpolargl": [
           {
            "marker": {
             "colorbar": {
              "outlinewidth": 0,
              "ticks": ""
             }
            },
            "type": "scatterpolargl"
           }
          ],
          "scatterternary": [
           {
            "marker": {
             "colorbar": {
              "outlinewidth": 0,
              "ticks": ""
             }
            },
            "type": "scatterternary"
           }
          ],
          "surface": [
           {
            "colorbar": {
             "outlinewidth": 0,
             "ticks": ""
            },
            "colorscale": [
             [
              0,
              "#0d0887"
             ],
             [
              0.1111111111111111,
              "#46039f"
             ],
             [
              0.2222222222222222,
              "#7201a8"
             ],
             [
              0.3333333333333333,
              "#9c179e"
             ],
             [
              0.4444444444444444,
              "#bd3786"
             ],
             [
              0.5555555555555556,
              "#d8576b"
             ],
             [
              0.6666666666666666,
              "#ed7953"
             ],
             [
              0.7777777777777778,
              "#fb9f3a"
             ],
             [
              0.8888888888888888,
              "#fdca26"
             ],
             [
              1,
              "#f0f921"
             ]
            ],
            "type": "surface"
           }
          ],
          "table": [
           {
            "cells": {
             "fill": {
              "color": "#EBF0F8"
             },
             "line": {
              "color": "white"
             }
            },
            "header": {
             "fill": {
              "color": "#C8D4E3"
             },
             "line": {
              "color": "white"
             }
            },
            "type": "table"
           }
          ]
         },
         "layout": {
          "annotationdefaults": {
           "arrowcolor": "#2a3f5f",
           "arrowhead": 0,
           "arrowwidth": 1
          },
          "autotypenumbers": "strict",
          "coloraxis": {
           "colorbar": {
            "outlinewidth": 0,
            "ticks": ""
           }
          },
          "colorscale": {
           "diverging": [
            [
             0,
             "#8e0152"
            ],
            [
             0.1,
             "#c51b7d"
            ],
            [
             0.2,
             "#de77ae"
            ],
            [
             0.3,
             "#f1b6da"
            ],
            [
             0.4,
             "#fde0ef"
            ],
            [
             0.5,
             "#f7f7f7"
            ],
            [
             0.6,
             "#e6f5d0"
            ],
            [
             0.7,
             "#b8e186"
            ],
            [
             0.8,
             "#7fbc41"
            ],
            [
             0.9,
             "#4d9221"
            ],
            [
             1,
             "#276419"
            ]
           ],
           "sequential": [
            [
             0,
             "#0d0887"
            ],
            [
             0.1111111111111111,
             "#46039f"
            ],
            [
             0.2222222222222222,
             "#7201a8"
            ],
            [
             0.3333333333333333,
             "#9c179e"
            ],
            [
             0.4444444444444444,
             "#bd3786"
            ],
            [
             0.5555555555555556,
             "#d8576b"
            ],
            [
             0.6666666666666666,
             "#ed7953"
            ],
            [
             0.7777777777777778,
             "#fb9f3a"
            ],
            [
             0.8888888888888888,
             "#fdca26"
            ],
            [
             1,
             "#f0f921"
            ]
           ],
           "sequentialminus": [
            [
             0,
             "#0d0887"
            ],
            [
             0.1111111111111111,
             "#46039f"
            ],
            [
             0.2222222222222222,
             "#7201a8"
            ],
            [
             0.3333333333333333,
             "#9c179e"
            ],
            [
             0.4444444444444444,
             "#bd3786"
            ],
            [
             0.5555555555555556,
             "#d8576b"
            ],
            [
             0.6666666666666666,
             "#ed7953"
            ],
            [
             0.7777777777777778,
             "#fb9f3a"
            ],
            [
             0.8888888888888888,
             "#fdca26"
            ],
            [
             1,
             "#f0f921"
            ]
           ]
          },
          "colorway": [
           "#636efa",
           "#EF553B",
           "#00cc96",
           "#ab63fa",
           "#FFA15A",
           "#19d3f3",
           "#FF6692",
           "#B6E880",
           "#FF97FF",
           "#FECB52"
          ],
          "font": {
           "color": "#2a3f5f"
          },
          "geo": {
           "bgcolor": "white",
           "lakecolor": "white",
           "landcolor": "#E5ECF6",
           "showlakes": true,
           "showland": true,
           "subunitcolor": "white"
          },
          "hoverlabel": {
           "align": "left"
          },
          "hovermode": "closest",
          "mapbox": {
           "style": "light"
          },
          "paper_bgcolor": "white",
          "plot_bgcolor": "#E5ECF6",
          "polar": {
           "angularaxis": {
            "gridcolor": "white",
            "linecolor": "white",
            "ticks": ""
           },
           "bgcolor": "#E5ECF6",
           "radialaxis": {
            "gridcolor": "white",
            "linecolor": "white",
            "ticks": ""
           }
          },
          "scene": {
           "xaxis": {
            "backgroundcolor": "#E5ECF6",
            "gridcolor": "white",
            "gridwidth": 2,
            "linecolor": "white",
            "showbackground": true,
            "ticks": "",
            "zerolinecolor": "white"
           },
           "yaxis": {
            "backgroundcolor": "#E5ECF6",
            "gridcolor": "white",
            "gridwidth": 2,
            "linecolor": "white",
            "showbackground": true,
            "ticks": "",
            "zerolinecolor": "white"
           },
           "zaxis": {
            "backgroundcolor": "#E5ECF6",
            "gridcolor": "white",
            "gridwidth": 2,
            "linecolor": "white",
            "showbackground": true,
            "ticks": "",
            "zerolinecolor": "white"
           }
          },
          "shapedefaults": {
           "line": {
            "color": "#2a3f5f"
           }
          },
          "ternary": {
           "aaxis": {
            "gridcolor": "white",
            "linecolor": "white",
            "ticks": ""
           },
           "baxis": {
            "gridcolor": "white",
            "linecolor": "white",
            "ticks": ""
           },
           "bgcolor": "#E5ECF6",
           "caxis": {
            "gridcolor": "white",
            "linecolor": "white",
            "ticks": ""
           }
          },
          "title": {
           "x": 0.05
          },
          "xaxis": {
           "automargin": true,
           "gridcolor": "white",
           "linecolor": "white",
           "ticks": "",
           "title": {
            "standoff": 15
           },
           "zerolinecolor": "white",
           "zerolinewidth": 2
          },
          "yaxis": {
           "automargin": true,
           "gridcolor": "white",
           "linecolor": "white",
           "ticks": "",
           "title": {
            "standoff": 15
           },
           "zerolinecolor": "white",
           "zerolinewidth": 2
          }
         }
        },
        "width": 640
       }
      },
      "text/html": [
       "<div>                            <div id=\"ff53e074-0839-4f55-9e7c-6ea44c9ad452\" class=\"plotly-graph-div\" style=\"height:480px; width:640px;\"></div>            <script type=\"text/javascript\">                require([\"plotly\"], function(Plotly) {                    window.PLOTLYENV=window.PLOTLYENV || {};                                    if (document.getElementById(\"ff53e074-0839-4f55-9e7c-6ea44c9ad452\")) {                    Plotly.newPlot(                        \"ff53e074-0839-4f55-9e7c-6ea44c9ad452\",                        [{\"hovertemplate\":\"\\uc9c0\\uc5ed=\\uacbd\\uae30<br>\\ucd08\\ub4f1\\uc0dd_\\uc0ac\\uad50\\uc721\\uc9c0\\ucd9c(\\ub9cc\\uc6d0)=%{x}<br>\\uc9c0\\uc810\\uc218(\\ubbf8\\ub798\\uc5d4)=%{y}<br>\\uc9c0\\uc810\\uc218(\\ud574\\ubc95)=%{z}<extra></extra>\",\"legendgroup\":\"\\uacbd\\uae30\",\"marker\":{\"color\":\"#636efa\",\"symbol\":\"circle\"},\"mode\":\"markers\",\"name\":\"\\uacbd\\uae30\",\"scene\":\"scene\",\"showlegend\":true,\"x\":[34.6],\"y\":[378],\"z\":[861],\"type\":\"scatter3d\"},{\"hovertemplate\":\"\\uc9c0\\uc5ed=\\uc11c\\uc6b8<br>\\ucd08\\ub4f1\\uc0dd_\\uc0ac\\uad50\\uc721\\uc9c0\\ucd9c(\\ub9cc\\uc6d0)=%{x}<br>\\uc9c0\\uc810\\uc218(\\ubbf8\\ub798\\uc5d4)=%{y}<br>\\uc9c0\\uc810\\uc218(\\ud574\\ubc95)=%{z}<extra></extra>\",\"legendgroup\":\"\\uc11c\\uc6b8\",\"marker\":{\"color\":\"#EF553B\",\"symbol\":\"circle\"},\"mode\":\"markers\",\"name\":\"\\uc11c\\uc6b8\",\"scene\":\"scene\",\"showlegend\":true,\"x\":[47.3],\"y\":[111],\"z\":[386],\"type\":\"scatter3d\"},{\"hovertemplate\":\"\\uc9c0\\uc5ed=\\uacbd\\ub0a8<br>\\ucd08\\ub4f1\\uc0dd_\\uc0ac\\uad50\\uc721\\uc9c0\\ucd9c(\\ub9cc\\uc6d0)=%{x}<br>\\uc9c0\\uc810\\uc218(\\ubbf8\\ub798\\uc5d4)=%{y}<br>\\uc9c0\\uc810\\uc218(\\ud574\\ubc95)=%{z}<extra></extra>\",\"legendgroup\":\"\\uacbd\\ub0a8\",\"marker\":{\"color\":\"#00cc96\",\"symbol\":\"circle\"},\"mode\":\"markers\",\"name\":\"\\uacbd\\ub0a8\",\"scene\":\"scene\",\"showlegend\":true,\"x\":[24.9],\"y\":[88],\"z\":[159],\"type\":\"scatter3d\"},{\"hovertemplate\":\"\\uc9c0\\uc5ed=\\uc778\\ucc9c<br>\\ucd08\\ub4f1\\uc0dd_\\uc0ac\\uad50\\uc721\\uc9c0\\ucd9c(\\ub9cc\\uc6d0)=%{x}<br>\\uc9c0\\uc810\\uc218(\\ubbf8\\ub798\\uc5d4)=%{y}<br>\\uc9c0\\uc810\\uc218(\\ud574\\ubc95)=%{z}<extra></extra>\",\"legendgroup\":\"\\uc778\\ucc9c\",\"marker\":{\"color\":\"#ab63fa\",\"symbol\":\"circle\"},\"mode\":\"markers\",\"name\":\"\\uc778\\ucc9c\",\"scene\":\"scene\",\"showlegend\":true,\"x\":[29.8],\"y\":[69],\"z\":[112],\"type\":\"scatter3d\"},{\"hovertemplate\":\"\\uc9c0\\uc5ed=\\ubd80\\uc0b0<br>\\ucd08\\ub4f1\\uc0dd_\\uc0ac\\uad50\\uc721\\uc9c0\\ucd9c(\\ub9cc\\uc6d0)=%{x}<br>\\uc9c0\\uc810\\uc218(\\ubbf8\\ub798\\uc5d4)=%{y}<br>\\uc9c0\\uc810\\uc218(\\ud574\\ubc95)=%{z}<extra></extra>\",\"legendgroup\":\"\\ubd80\\uc0b0\",\"marker\":{\"color\":\"#FFA15A\",\"symbol\":\"circle\"},\"mode\":\"markers\",\"name\":\"\\ubd80\\uc0b0\",\"scene\":\"scene\",\"showlegend\":true,\"x\":[32.8],\"y\":[60],\"z\":[155],\"type\":\"scatter3d\"},{\"hovertemplate\":\"\\uc9c0\\uc5ed=\\ucda9\\ub0a8<br>\\ucd08\\ub4f1\\uc0dd_\\uc0ac\\uad50\\uc721\\uc9c0\\ucd9c(\\ub9cc\\uc6d0)=%{x}<br>\\uc9c0\\uc810\\uc218(\\ubbf8\\ub798\\uc5d4)=%{y}<br>\\uc9c0\\uc810\\uc218(\\ud574\\ubc95)=%{z}<extra></extra>\",\"legendgroup\":\"\\ucda9\\ub0a8\",\"marker\":{\"color\":\"#19d3f3\",\"symbol\":\"circle\"},\"mode\":\"markers\",\"name\":\"\\ucda9\\ub0a8\",\"scene\":\"scene\",\"showlegend\":true,\"x\":[23.3],\"y\":[57],\"z\":[67],\"type\":\"scatter3d\"},{\"hovertemplate\":\"\\uc9c0\\uc5ed=\\ub300\\uad6c<br>\\ucd08\\ub4f1\\uc0dd_\\uc0ac\\uad50\\uc721\\uc9c0\\ucd9c(\\ub9cc\\uc6d0)=%{x}<br>\\uc9c0\\uc810\\uc218(\\ubbf8\\ub798\\uc5d4)=%{y}<br>\\uc9c0\\uc810\\uc218(\\ud574\\ubc95)=%{z}<extra></extra>\",\"legendgroup\":\"\\ub300\\uad6c\",\"marker\":{\"color\":\"#FF6692\",\"symbol\":\"circle\"},\"mode\":\"markers\",\"name\":\"\\ub300\\uad6c\",\"scene\":\"scene\",\"showlegend\":true,\"x\":[37.4],\"y\":[55],\"z\":[85],\"type\":\"scatter3d\"},{\"hovertemplate\":\"\\uc9c0\\uc5ed=\\uacbd\\ubd81<br>\\ucd08\\ub4f1\\uc0dd_\\uc0ac\\uad50\\uc721\\uc9c0\\ucd9c(\\ub9cc\\uc6d0)=%{x}<br>\\uc9c0\\uc810\\uc218(\\ubbf8\\ub798\\uc5d4)=%{y}<br>\\uc9c0\\uc810\\uc218(\\ud574\\ubc95)=%{z}<extra></extra>\",\"legendgroup\":\"\\uacbd\\ubd81\",\"marker\":{\"color\":\"#B6E880\",\"symbol\":\"circle\"},\"mode\":\"markers\",\"name\":\"\\uacbd\\ubd81\",\"scene\":\"scene\",\"showlegend\":true,\"x\":[26.4],\"y\":[45],\"z\":[123],\"type\":\"scatter3d\"},{\"hovertemplate\":\"\\uc9c0\\uc5ed=\\uc804\\ub0a8<br>\\ucd08\\ub4f1\\uc0dd_\\uc0ac\\uad50\\uc721\\uc9c0\\ucd9c(\\ub9cc\\uc6d0)=%{x}<br>\\uc9c0\\uc810\\uc218(\\ubbf8\\ub798\\uc5d4)=%{y}<br>\\uc9c0\\uc810\\uc218(\\ud574\\ubc95)=%{z}<extra></extra>\",\"legendgroup\":\"\\uc804\\ub0a8\",\"marker\":{\"color\":\"#FF97FF\",\"symbol\":\"circle\"},\"mode\":\"markers\",\"name\":\"\\uc804\\ub0a8\",\"scene\":\"scene\",\"showlegend\":true,\"x\":[22.4],\"y\":[41],\"z\":[55],\"type\":\"scatter3d\"},{\"hovertemplate\":\"\\uc9c0\\uc5ed=\\uc804\\ubd81<br>\\ucd08\\ub4f1\\uc0dd_\\uc0ac\\uad50\\uc721\\uc9c0\\ucd9c(\\ub9cc\\uc6d0)=%{x}<br>\\uc9c0\\uc810\\uc218(\\ubbf8\\ub798\\uc5d4)=%{y}<br>\\uc9c0\\uc810\\uc218(\\ud574\\ubc95)=%{z}<extra></extra>\",\"legendgroup\":\"\\uc804\\ubd81\",\"marker\":{\"color\":\"#FECB52\",\"symbol\":\"circle\"},\"mode\":\"markers\",\"name\":\"\\uc804\\ubd81\",\"scene\":\"scene\",\"showlegend\":true,\"x\":[23.9],\"y\":[35],\"z\":[59],\"type\":\"scatter3d\"},{\"hovertemplate\":\"\\uc9c0\\uc5ed=\\ucda9\\ubd81<br>\\ucd08\\ub4f1\\uc0dd_\\uc0ac\\uad50\\uc721\\uc9c0\\ucd9c(\\ub9cc\\uc6d0)=%{x}<br>\\uc9c0\\uc810\\uc218(\\ubbf8\\ub798\\uc5d4)=%{y}<br>\\uc9c0\\uc810\\uc218(\\ud574\\ubc95)=%{z}<extra></extra>\",\"legendgroup\":\"\\ucda9\\ubd81\",\"marker\":{\"color\":\"#636efa\",\"symbol\":\"circle\"},\"mode\":\"markers\",\"name\":\"\\ucda9\\ubd81\",\"scene\":\"scene\",\"showlegend\":true,\"x\":[27.9],\"y\":[32],\"z\":[49],\"type\":\"scatter3d\"},{\"hovertemplate\":\"\\uc9c0\\uc5ed=\\uc81c\\uc8fc<br>\\ucd08\\ub4f1\\uc0dd_\\uc0ac\\uad50\\uc721\\uc9c0\\ucd9c(\\ub9cc\\uc6d0)=%{x}<br>\\uc9c0\\uc810\\uc218(\\ubbf8\\ub798\\uc5d4)=%{y}<br>\\uc9c0\\uc810\\uc218(\\ud574\\ubc95)=%{z}<extra></extra>\",\"legendgroup\":\"\\uc81c\\uc8fc\",\"marker\":{\"color\":\"#EF553B\",\"symbol\":\"circle\"},\"mode\":\"markers\",\"name\":\"\\uc81c\\uc8fc\",\"scene\":\"scene\",\"showlegend\":true,\"x\":[27.0],\"y\":[19],\"z\":[15],\"type\":\"scatter3d\"},{\"hovertemplate\":\"\\uc9c0\\uc5ed=\\ub300\\uc804<br>\\ucd08\\ub4f1\\uc0dd_\\uc0ac\\uad50\\uc721\\uc9c0\\ucd9c(\\ub9cc\\uc6d0)=%{x}<br>\\uc9c0\\uc810\\uc218(\\ubbf8\\ub798\\uc5d4)=%{y}<br>\\uc9c0\\uc810\\uc218(\\ud574\\ubc95)=%{z}<extra></extra>\",\"legendgroup\":\"\\ub300\\uc804\",\"marker\":{\"color\":\"#00cc96\",\"symbol\":\"circle\"},\"mode\":\"markers\",\"name\":\"\\ub300\\uc804\",\"scene\":\"scene\",\"showlegend\":true,\"x\":[34.1],\"y\":[17],\"z\":[35],\"type\":\"scatter3d\"},{\"hovertemplate\":\"\\uc9c0\\uc5ed=\\uc6b8\\uc0b0<br>\\ucd08\\ub4f1\\uc0dd_\\uc0ac\\uad50\\uc721\\uc9c0\\ucd9c(\\ub9cc\\uc6d0)=%{x}<br>\\uc9c0\\uc810\\uc218(\\ubbf8\\ub798\\uc5d4)=%{y}<br>\\uc9c0\\uc810\\uc218(\\ud574\\ubc95)=%{z}<extra></extra>\",\"legendgroup\":\"\\uc6b8\\uc0b0\",\"marker\":{\"color\":\"#ab63fa\",\"symbol\":\"circle\"},\"mode\":\"markers\",\"name\":\"\\uc6b8\\uc0b0\",\"scene\":\"scene\",\"showlegend\":true,\"x\":[26.7],\"y\":[16],\"z\":[16],\"type\":\"scatter3d\"},{\"hovertemplate\":\"\\uc9c0\\uc5ed=\\uad11\\uc8fc<br>\\ucd08\\ub4f1\\uc0dd_\\uc0ac\\uad50\\uc721\\uc9c0\\ucd9c(\\ub9cc\\uc6d0)=%{x}<br>\\uc9c0\\uc810\\uc218(\\ubbf8\\ub798\\uc5d4)=%{y}<br>\\uc9c0\\uc810\\uc218(\\ud574\\ubc95)=%{z}<extra></extra>\",\"legendgroup\":\"\\uad11\\uc8fc\",\"marker\":{\"color\":\"#FFA15A\",\"symbol\":\"circle\"},\"mode\":\"markers\",\"name\":\"\\uad11\\uc8fc\",\"scene\":\"scene\",\"showlegend\":true,\"x\":[27.4],\"y\":[16],\"z\":[46],\"type\":\"scatter3d\"},{\"hovertemplate\":\"\\uc9c0\\uc5ed=\\uac15\\uc6d0<br>\\ucd08\\ub4f1\\uc0dd_\\uc0ac\\uad50\\uc721\\uc9c0\\ucd9c(\\ub9cc\\uc6d0)=%{x}<br>\\uc9c0\\uc810\\uc218(\\ubbf8\\ub798\\uc5d4)=%{y}<br>\\uc9c0\\uc810\\uc218(\\ud574\\ubc95)=%{z}<extra></extra>\",\"legendgroup\":\"\\uac15\\uc6d0\",\"marker\":{\"color\":\"#19d3f3\",\"symbol\":\"circle\"},\"mode\":\"markers\",\"name\":\"\\uac15\\uc6d0\",\"scene\":\"scene\",\"showlegend\":true,\"x\":[24.6],\"y\":[12],\"z\":[48],\"type\":\"scatter3d\"},{\"hovertemplate\":\"\\uc9c0\\uc5ed=\\uc138\\uc885<br>\\ucd08\\ub4f1\\uc0dd_\\uc0ac\\uad50\\uc721\\uc9c0\\ucd9c(\\ub9cc\\uc6d0)=%{x}<br>\\uc9c0\\uc810\\uc218(\\ubbf8\\ub798\\uc5d4)=%{y}<br>\\uc9c0\\uc810\\uc218(\\ud574\\ubc95)=%{z}<extra></extra>\",\"legendgroup\":\"\\uc138\\uc885\",\"marker\":{\"color\":\"#FF6692\",\"symbol\":\"circle\"},\"mode\":\"markers\",\"name\":\"\\uc138\\uc885\",\"scene\":\"scene\",\"showlegend\":true,\"x\":[33.1],\"y\":[1],\"z\":[25],\"type\":\"scatter3d\"}],                        {\"template\":{\"data\":{\"histogram2dcontour\":[{\"type\":\"histogram2dcontour\",\"colorbar\":{\"outlinewidth\":0,\"ticks\":\"\"},\"colorscale\":[[0.0,\"#0d0887\"],[0.1111111111111111,\"#46039f\"],[0.2222222222222222,\"#7201a8\"],[0.3333333333333333,\"#9c179e\"],[0.4444444444444444,\"#bd3786\"],[0.5555555555555556,\"#d8576b\"],[0.6666666666666666,\"#ed7953\"],[0.7777777777777778,\"#fb9f3a\"],[0.8888888888888888,\"#fdca26\"],[1.0,\"#f0f921\"]]}],\"choropleth\":[{\"type\":\"choropleth\",\"colorbar\":{\"outlinewidth\":0,\"ticks\":\"\"}}],\"histogram2d\":[{\"type\":\"histogram2d\",\"colorbar\":{\"outlinewidth\":0,\"ticks\":\"\"},\"colorscale\":[[0.0,\"#0d0887\"],[0.1111111111111111,\"#46039f\"],[0.2222222222222222,\"#7201a8\"],[0.3333333333333333,\"#9c179e\"],[0.4444444444444444,\"#bd3786\"],[0.5555555555555556,\"#d8576b\"],[0.6666666666666666,\"#ed7953\"],[0.7777777777777778,\"#fb9f3a\"],[0.8888888888888888,\"#fdca26\"],[1.0,\"#f0f921\"]]}],\"heatmap\":[{\"type\":\"heatmap\",\"colorbar\":{\"outlinewidth\":0,\"ticks\":\"\"},\"colorscale\":[[0.0,\"#0d0887\"],[0.1111111111111111,\"#46039f\"],[0.2222222222222222,\"#7201a8\"],[0.3333333333333333,\"#9c179e\"],[0.4444444444444444,\"#bd3786\"],[0.5555555555555556,\"#d8576b\"],[0.6666666666666666,\"#ed7953\"],[0.7777777777777778,\"#fb9f3a\"],[0.8888888888888888,\"#fdca26\"],[1.0,\"#f0f921\"]]}],\"heatmapgl\":[{\"type\":\"heatmapgl\",\"colorbar\":{\"outlinewidth\":0,\"ticks\":\"\"},\"colorscale\":[[0.0,\"#0d0887\"],[0.1111111111111111,\"#46039f\"],[0.2222222222222222,\"#7201a8\"],[0.3333333333333333,\"#9c179e\"],[0.4444444444444444,\"#bd3786\"],[0.5555555555555556,\"#d8576b\"],[0.6666666666666666,\"#ed7953\"],[0.7777777777777778,\"#fb9f3a\"],[0.8888888888888888,\"#fdca26\"],[1.0,\"#f0f921\"]]}],\"contourcarpet\":[{\"type\":\"contourcarpet\",\"colorbar\":{\"outlinewidth\":0,\"ticks\":\"\"}}],\"contour\":[{\"type\":\"contour\",\"colorbar\":{\"outlinewidth\":0,\"ticks\":\"\"},\"colorscale\":[[0.0,\"#0d0887\"],[0.1111111111111111,\"#46039f\"],[0.2222222222222222,\"#7201a8\"],[0.3333333333333333,\"#9c179e\"],[0.4444444444444444,\"#bd3786\"],[0.5555555555555556,\"#d8576b\"],[0.6666666666666666,\"#ed7953\"],[0.7777777777777778,\"#fb9f3a\"],[0.8888888888888888,\"#fdca26\"],[1.0,\"#f0f921\"]]}],\"surface\":[{\"type\":\"surface\",\"colorbar\":{\"outlinewidth\":0,\"ticks\":\"\"},\"colorscale\":[[0.0,\"#0d0887\"],[0.1111111111111111,\"#46039f\"],[0.2222222222222222,\"#7201a8\"],[0.3333333333333333,\"#9c179e\"],[0.4444444444444444,\"#bd3786\"],[0.5555555555555556,\"#d8576b\"],[0.6666666666666666,\"#ed7953\"],[0.7777777777777778,\"#fb9f3a\"],[0.8888888888888888,\"#fdca26\"],[1.0,\"#f0f921\"]]}],\"mesh3d\":[{\"type\":\"mesh3d\",\"colorbar\":{\"outlinewidth\":0,\"ticks\":\"\"}}],\"scatter\":[{\"fillpattern\":{\"fillmode\":\"overlay\",\"size\":10,\"solidity\":0.2},\"type\":\"scatter\"}],\"parcoords\":[{\"type\":\"parcoords\",\"line\":{\"colorbar\":{\"outlinewidth\":0,\"ticks\":\"\"}}}],\"scatterpolargl\":[{\"type\":\"scatterpolargl\",\"marker\":{\"colorbar\":{\"outlinewidth\":0,\"ticks\":\"\"}}}],\"bar\":[{\"error_x\":{\"color\":\"#2a3f5f\"},\"error_y\":{\"color\":\"#2a3f5f\"},\"marker\":{\"line\":{\"color\":\"#E5ECF6\",\"width\":0.5},\"pattern\":{\"fillmode\":\"overlay\",\"size\":10,\"solidity\":0.2}},\"type\":\"bar\"}],\"scattergeo\":[{\"type\":\"scattergeo\",\"marker\":{\"colorbar\":{\"outlinewidth\":0,\"ticks\":\"\"}}}],\"scatterpolar\":[{\"type\":\"scatterpolar\",\"marker\":{\"colorbar\":{\"outlinewidth\":0,\"ticks\":\"\"}}}],\"histogram\":[{\"marker\":{\"pattern\":{\"fillmode\":\"overlay\",\"size\":10,\"solidity\":0.2}},\"type\":\"histogram\"}],\"scattergl\":[{\"type\":\"scattergl\",\"marker\":{\"colorbar\":{\"outlinewidth\":0,\"ticks\":\"\"}}}],\"scatter3d\":[{\"type\":\"scatter3d\",\"line\":{\"colorbar\":{\"outlinewidth\":0,\"ticks\":\"\"}},\"marker\":{\"colorbar\":{\"outlinewidth\":0,\"ticks\":\"\"}}}],\"scattermapbox\":[{\"type\":\"scattermapbox\",\"marker\":{\"colorbar\":{\"outlinewidth\":0,\"ticks\":\"\"}}}],\"scatterternary\":[{\"type\":\"scatterternary\",\"marker\":{\"colorbar\":{\"outlinewidth\":0,\"ticks\":\"\"}}}],\"scattercarpet\":[{\"type\":\"scattercarpet\",\"marker\":{\"colorbar\":{\"outlinewidth\":0,\"ticks\":\"\"}}}],\"carpet\":[{\"aaxis\":{\"endlinecolor\":\"#2a3f5f\",\"gridcolor\":\"white\",\"linecolor\":\"white\",\"minorgridcolor\":\"white\",\"startlinecolor\":\"#2a3f5f\"},\"baxis\":{\"endlinecolor\":\"#2a3f5f\",\"gridcolor\":\"white\",\"linecolor\":\"white\",\"minorgridcolor\":\"white\",\"startlinecolor\":\"#2a3f5f\"},\"type\":\"carpet\"}],\"table\":[{\"cells\":{\"fill\":{\"color\":\"#EBF0F8\"},\"line\":{\"color\":\"white\"}},\"header\":{\"fill\":{\"color\":\"#C8D4E3\"},\"line\":{\"color\":\"white\"}},\"type\":\"table\"}],\"barpolar\":[{\"marker\":{\"line\":{\"color\":\"#E5ECF6\",\"width\":0.5},\"pattern\":{\"fillmode\":\"overlay\",\"size\":10,\"solidity\":0.2}},\"type\":\"barpolar\"}],\"pie\":[{\"automargin\":true,\"type\":\"pie\"}]},\"layout\":{\"autotypenumbers\":\"strict\",\"colorway\":[\"#636efa\",\"#EF553B\",\"#00cc96\",\"#ab63fa\",\"#FFA15A\",\"#19d3f3\",\"#FF6692\",\"#B6E880\",\"#FF97FF\",\"#FECB52\"],\"font\":{\"color\":\"#2a3f5f\"},\"hovermode\":\"closest\",\"hoverlabel\":{\"align\":\"left\"},\"paper_bgcolor\":\"white\",\"plot_bgcolor\":\"#E5ECF6\",\"polar\":{\"bgcolor\":\"#E5ECF6\",\"angularaxis\":{\"gridcolor\":\"white\",\"linecolor\":\"white\",\"ticks\":\"\"},\"radialaxis\":{\"gridcolor\":\"white\",\"linecolor\":\"white\",\"ticks\":\"\"}},\"ternary\":{\"bgcolor\":\"#E5ECF6\",\"aaxis\":{\"gridcolor\":\"white\",\"linecolor\":\"white\",\"ticks\":\"\"},\"baxis\":{\"gridcolor\":\"white\",\"linecolor\":\"white\",\"ticks\":\"\"},\"caxis\":{\"gridcolor\":\"white\",\"linecolor\":\"white\",\"ticks\":\"\"}},\"coloraxis\":{\"colorbar\":{\"outlinewidth\":0,\"ticks\":\"\"}},\"colorscale\":{\"sequential\":[[0.0,\"#0d0887\"],[0.1111111111111111,\"#46039f\"],[0.2222222222222222,\"#7201a8\"],[0.3333333333333333,\"#9c179e\"],[0.4444444444444444,\"#bd3786\"],[0.5555555555555556,\"#d8576b\"],[0.6666666666666666,\"#ed7953\"],[0.7777777777777778,\"#fb9f3a\"],[0.8888888888888888,\"#fdca26\"],[1.0,\"#f0f921\"]],\"sequentialminus\":[[0.0,\"#0d0887\"],[0.1111111111111111,\"#46039f\"],[0.2222222222222222,\"#7201a8\"],[0.3333333333333333,\"#9c179e\"],[0.4444444444444444,\"#bd3786\"],[0.5555555555555556,\"#d8576b\"],[0.6666666666666666,\"#ed7953\"],[0.7777777777777778,\"#fb9f3a\"],[0.8888888888888888,\"#fdca26\"],[1.0,\"#f0f921\"]],\"diverging\":[[0,\"#8e0152\"],[0.1,\"#c51b7d\"],[0.2,\"#de77ae\"],[0.3,\"#f1b6da\"],[0.4,\"#fde0ef\"],[0.5,\"#f7f7f7\"],[0.6,\"#e6f5d0\"],[0.7,\"#b8e186\"],[0.8,\"#7fbc41\"],[0.9,\"#4d9221\"],[1,\"#276419\"]]},\"xaxis\":{\"gridcolor\":\"white\",\"linecolor\":\"white\",\"ticks\":\"\",\"title\":{\"standoff\":15},\"zerolinecolor\":\"white\",\"automargin\":true,\"zerolinewidth\":2},\"yaxis\":{\"gridcolor\":\"white\",\"linecolor\":\"white\",\"ticks\":\"\",\"title\":{\"standoff\":15},\"zerolinecolor\":\"white\",\"automargin\":true,\"zerolinewidth\":2},\"scene\":{\"xaxis\":{\"backgroundcolor\":\"#E5ECF6\",\"gridcolor\":\"white\",\"linecolor\":\"white\",\"showbackground\":true,\"ticks\":\"\",\"zerolinecolor\":\"white\",\"gridwidth\":2},\"yaxis\":{\"backgroundcolor\":\"#E5ECF6\",\"gridcolor\":\"white\",\"linecolor\":\"white\",\"showbackground\":true,\"ticks\":\"\",\"zerolinecolor\":\"white\",\"gridwidth\":2},\"zaxis\":{\"backgroundcolor\":\"#E5ECF6\",\"gridcolor\":\"white\",\"linecolor\":\"white\",\"showbackground\":true,\"ticks\":\"\",\"zerolinecolor\":\"white\",\"gridwidth\":2}},\"shapedefaults\":{\"line\":{\"color\":\"#2a3f5f\"}},\"annotationdefaults\":{\"arrowcolor\":\"#2a3f5f\",\"arrowhead\":0,\"arrowwidth\":1},\"geo\":{\"bgcolor\":\"white\",\"landcolor\":\"#E5ECF6\",\"subunitcolor\":\"white\",\"showland\":true,\"showlakes\":true,\"lakecolor\":\"white\"},\"title\":{\"x\":0.05},\"mapbox\":{\"style\":\"light\"}}},\"scene\":{\"domain\":{\"x\":[0.0,1.0],\"y\":[0.0,1.0]},\"xaxis\":{\"title\":{\"text\":\"\\ucd08\\ub4f1\\uc0dd_\\uc0ac\\uad50\\uc721\\uc9c0\\ucd9c(\\ub9cc\\uc6d0)\"}},\"yaxis\":{\"title\":{\"text\":\"\\uc9c0\\uc810\\uc218(\\ubbf8\\ub798\\uc5d4)\"}},\"zaxis\":{\"title\":{\"text\":\"\\uc9c0\\uc810\\uc218(\\ud574\\ubc95)\"}}},\"legend\":{\"title\":{\"text\":\"\\uc9c0\\uc5ed\"},\"tracegroupgap\":0},\"margin\":{\"t\":60},\"height\":480,\"width\":640},                        {\"responsive\": true}                    ).then(function(){\n",
       "                            \n",
       "var gd = document.getElementById('ff53e074-0839-4f55-9e7c-6ea44c9ad452');\n",
       "var x = new MutationObserver(function (mutations, observer) {{\n",
       "        var display = window.getComputedStyle(gd).display;\n",
       "        if (!display || display === 'none') {{\n",
       "            console.log([gd, 'removed!']);\n",
       "            Plotly.purge(gd);\n",
       "            observer.disconnect();\n",
       "        }}\n",
       "}});\n",
       "\n",
       "// Listen for the removal of the full notebook cells\n",
       "var notebookContainer = gd.closest('#notebook-container');\n",
       "if (notebookContainer) {{\n",
       "    x.observe(notebookContainer, {childList: true});\n",
       "}}\n",
       "\n",
       "// Listen for the clearing of the current output cell\n",
       "var outputEl = gd.closest('.output');\n",
       "if (outputEl) {{\n",
       "    x.observe(outputEl, {childList: true});\n",
       "}}\n",
       "\n",
       "                        })                };                });            </script>        </div>"
      ]
     },
     "metadata": {},
     "output_type": "display_data"
    }
   ],
   "source": [
    "import plotly.express as px\n",
    "# 그래프 그리기\n",
    "fig = px.scatter_3d(df, x='초등생_사교육지출(만원)', y='지점수(미래엔)', z='지점수(해법)', color=df.지역, width=640, height=480)\n",
    "fig.show()"
   ]
  },
  {
   "cell_type": "code",
   "execution_count": null,
   "id": "911acd1f",
   "metadata": {},
   "outputs": [],
   "source": []
  }
 ],
 "metadata": {
  "kernelspec": {
   "display_name": "Python 3 (ipykernel)",
   "language": "python",
   "name": "python3"
  },
  "language_info": {
   "codemirror_mode": {
    "name": "ipython",
    "version": 3
   },
   "file_extension": ".py",
   "mimetype": "text/x-python",
   "name": "python",
   "nbconvert_exporter": "python",
   "pygments_lexer": "ipython3",
   "version": "3.10.9"
  }
 },
 "nbformat": 4,
 "nbformat_minor": 5
}
